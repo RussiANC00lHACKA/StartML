{
  "cells": [
    {
      "cell_type": "markdown",
      "metadata": {
        "id": "view-in-github",
        "colab_type": "text"
      },
      "source": [
        "<a href=\"https://colab.research.google.com/github/RussiANC00lHACKA/StartML/blob/main/LDAandGauss.ipynb\" target=\"_parent\"><img src=\"https://colab.research.google.com/assets/colab-badge.svg\" alt=\"Open In Colab\"/></a>"
      ]
    },
    {
      "cell_type": "markdown",
      "metadata": {
        "id": "JPXWBEXAlKyy"
      },
      "source": [
        "# Задание 1"
      ]
    },
    {
      "cell_type": "code",
      "execution_count": null,
      "metadata": {
        "id": "u2_0mfbrlKy4"
      },
      "outputs": [],
      "source": [
        "import numpy as np\n",
        "import pandas as pd\n",
        "import matplotlib.pyplot as plt\n",
        "import seaborn as sns\n",
        "%matplotlib inline\n",
        "\n",
        "df = pd.read_csv('baby-names.csv')"
      ]
    },
    {
      "cell_type": "code",
      "execution_count": null,
      "metadata": {
        "id": "vcV8ZCH1lKy7",
        "outputId": "110e19f1-e1ba-4289-c6a9-fd6a8b63aed4"
      },
      "outputs": [
        {
          "data": {
            "text/html": [
              "<div>\n",
              "<style scoped>\n",
              "    .dataframe tbody tr th:only-of-type {\n",
              "        vertical-align: middle;\n",
              "    }\n",
              "\n",
              "    .dataframe tbody tr th {\n",
              "        vertical-align: top;\n",
              "    }\n",
              "\n",
              "    .dataframe thead th {\n",
              "        text-align: right;\n",
              "    }\n",
              "</style>\n",
              "<table border=\"1\" class=\"dataframe\">\n",
              "  <thead>\n",
              "    <tr style=\"text-align: right;\">\n",
              "      <th></th>\n",
              "      <th>year</th>\n",
              "      <th>name</th>\n",
              "      <th>percent</th>\n",
              "      <th>sex</th>\n",
              "    </tr>\n",
              "  </thead>\n",
              "  <tbody>\n",
              "    <tr>\n",
              "      <th>0</th>\n",
              "      <td>1880</td>\n",
              "      <td>John</td>\n",
              "      <td>0.081541</td>\n",
              "      <td>boy</td>\n",
              "    </tr>\n",
              "    <tr>\n",
              "      <th>1</th>\n",
              "      <td>1880</td>\n",
              "      <td>William</td>\n",
              "      <td>0.080511</td>\n",
              "      <td>boy</td>\n",
              "    </tr>\n",
              "    <tr>\n",
              "      <th>2</th>\n",
              "      <td>1880</td>\n",
              "      <td>James</td>\n",
              "      <td>0.050057</td>\n",
              "      <td>boy</td>\n",
              "    </tr>\n",
              "    <tr>\n",
              "      <th>3</th>\n",
              "      <td>1880</td>\n",
              "      <td>Charles</td>\n",
              "      <td>0.045167</td>\n",
              "      <td>boy</td>\n",
              "    </tr>\n",
              "    <tr>\n",
              "      <th>4</th>\n",
              "      <td>1880</td>\n",
              "      <td>George</td>\n",
              "      <td>0.043292</td>\n",
              "      <td>boy</td>\n",
              "    </tr>\n",
              "  </tbody>\n",
              "</table>\n",
              "</div>"
            ],
            "text/plain": [
              "   year     name   percent  sex\n",
              "0  1880     John  0.081541  boy\n",
              "1  1880  William  0.080511  boy\n",
              "2  1880    James  0.050057  boy\n",
              "3  1880  Charles  0.045167  boy\n",
              "4  1880   George  0.043292  boy"
            ]
          },
          "execution_count": 616,
          "metadata": {},
          "output_type": "execute_result"
        }
      ],
      "source": [
        "df.head()"
      ]
    },
    {
      "cell_type": "code",
      "execution_count": null,
      "metadata": {
        "id": "M6fVGatOlKy9"
      },
      "outputs": [],
      "source": [
        "X = df.drop(['sex'], axis=1)\n",
        "y = df['sex']"
      ]
    },
    {
      "cell_type": "code",
      "execution_count": null,
      "metadata": {
        "id": "EfXS0P9TlKy-"
      },
      "outputs": [],
      "source": [
        "from sklearn.model_selection import train_test_split\n",
        "X_train, X_test, y_train, y_test = train_test_split(\n",
        "    X, y,\n",
        "    test_size=0.3,\n",
        "    random_state=1\n",
        ")"
      ]
    },
    {
      "cell_type": "code",
      "execution_count": null,
      "metadata": {
        "id": "KduUZ12glKy_",
        "outputId": "bd080481-12ca-4967-fc8c-d3426e3f052e"
      },
      "outputs": [
        {
          "name": "stdout",
          "output_type": "stream",
          "text": [
            "defaultdict(<function train.<locals>.<lambda> at 0x00000269AC9B1940>, {'boy': 0.49859911406423035, 'girl': 0.5014008859357697}) defaultdict(<function train.<locals>.<lambda> at 0x00000269AD5476A0>, {('boy', 'm'): 0.0164802825191289, ('girl', 'a'): 0.38419489138957297, ('boy', 'y'): 0.11194154163936611, ('boy', 'c'): 0.009239619309915932, ('boy', 'e'): 0.13936055615400847, ('boy', 'b'): 0.004053438759758793, ('boy', 'n'): 0.21362177529512366, ('boy', 's'): 0.07881439692604973, ('girl', 'e'): 0.3024637505107506, ('girl', 's'): 0.022450940333285478, ('girl', 'y'): 0.07846233697392688, ('boy', 'd'): 0.07186247182027164, ('boy', 'k'): 0.022477150821237798, ('girl', 'd'): 0.007962187889964993, ('boy', 'l'): 0.08326762690594912, ('girl', 'n'): 0.08047220964518018, ('girl', 'h'): 0.02474793767186068, ('girl', 'i'): 0.0275087517807251, ('boy', 'a'): 0.01593612224727087, ('boy', 'o'): 0.06324474996390773, ('boy', 'p'): 0.0031872244494541738, ('boy', 't'): 0.0526169666951703, ('girl', 'l'): 0.03481938754099809, ('girl', 'o'): 0.005223460293971486, ('boy', 'f'): 0.003498173176230191, ('boy', 'r'): 0.05961331304763068, ('boy', 'h'): 0.02624185147756172, ('girl', 'w'): 0.0003754707188055614, ('boy', 'x'): 0.00441991404488767, ('girl', 'm'): 0.0029595927247026603, ('boy', 'g'): 0.006241185158861484, ('boy', 'i'): 0.0052528124201805726, ('girl', 't'): 0.010734045255264873, ('boy', 'z'): 0.0021100092174086865, ('girl', 'r'): 0.0118494141552461, ('girl', 'z'): 0.0019436131326405531, ('girl', 'u'): 0.0018110940554150608, ('boy', 'v'): 0.0005996868302108898, ('boy', 'w'): 0.004897442446722267, ('girl', 'k'): 0.0009276335405784458, ('girl', 'g'): 0.0005411195653374267, ('boy', 'j'): 0.00012215842837629237, ('girl', 'x'): 0.00014356233366094994, ('boy', 'u'): 0.0007773718169400424, ('boy', 'q'): 0.00012215842837629237, ('girl', 'c'): 0.00029816792375735756, ('girl', 'b'): 8.83460514836615e-05, ('girl', 'v'): 2.2086512870915375e-05})\n"
          ]
        }
      ],
      "source": [
        "from collections import defaultdict\n",
        "from math import log\n",
        "\n",
        "def train(samples):\n",
        "    classes, freq = defaultdict(lambda:0), defaultdict(lambda:0)\n",
        "    for feats, label in samples:\n",
        "        classes[label] += 1                 # count classes frequencies\n",
        "        for feat in feats:\n",
        "            freq[label, feat] += 1          # count features frequencies\n",
        "\n",
        "    for label, feat in freq:                # normalize features frequencies\n",
        "        freq[label, feat] /= classes[label]\n",
        "    for c in classes:                       # normalize classes frequencies\n",
        "        classes[c] /= len(samples)\n",
        "    print(classes, freq)\n",
        "    return classes, freq                    # return P(C) and P(O|C)\n",
        "\n",
        "def classify(classifier, feats):\n",
        "    classes, prob = classifier\n",
        "    try:\n",
        "        return min(classes.keys(),              # calculate argmin(-log(C|O)) -> argmax(P(C|O))\n",
        "            key = lambda cl: -log(classes[cl]) + \\\n",
        "                sum(-log(prob.get((cl,feat))) for feat in feats))\n",
        "    except:\n",
        "        return max(classes.keys(),key = lambda x: classes.get(x,0))\n",
        "\n",
        "def get_features(sample): return (sample[-1]) # get last letter\n",
        "\n",
        "name = list(X_train['name'])\n",
        "rez = list(y_train)\n",
        "features = [(get_features(name[i]), rez[i]) for i in range(len(X_train))]\n",
        "classifier = train(features)"
      ]
    },
    {
      "cell_type": "code",
      "execution_count": null,
      "metadata": {
        "id": "yTzfKKd2lKzA"
      },
      "outputs": [],
      "source": [
        "pred = [classify(classifier, get_features(n)) for n in X_test['name']]\n"
      ]
    },
    {
      "cell_type": "markdown",
      "metadata": {
        "id": "a03WU6Q8lKzB"
      },
      "source": [
        "## Средняя доля правильных ответов классификатора и другие метрики оценивания"
      ]
    },
    {
      "cell_type": "code",
      "execution_count": null,
      "metadata": {
        "id": "SowRNi28lKzC",
        "outputId": "392d926e-f3b4-4714-e300-b62565e25ffb"
      },
      "outputs": [
        {
          "data": {
            "text/plain": [
              "0.7748708010335917"
            ]
          },
          "execution_count": 621,
          "metadata": {},
          "output_type": "execute_result"
        }
      ],
      "source": [
        "np.mean(pred == y_test)"
      ]
    },
    {
      "cell_type": "code",
      "execution_count": null,
      "metadata": {
        "id": "xItoWM9ZlKzC",
        "outputId": "b4709ade-5e48-4134-8e04-659a37260031"
      },
      "outputs": [
        {
          "name": "stdout",
          "output_type": "stream",
          "text": [
            "Precision: 0.8095841187558906\n",
            "Recall: 0.7149322443883788\n",
            "F1-мера: 0.7593198801088411\n"
          ]
        }
      ],
      "source": [
        "# Помимо средней доли, мы можем оценить качество модели посчитая Precision(Точность), Полноту(Recall), F1-меру.\n",
        "# Существуют и другие методы оценивая, например, ROC-кривая + AUC-ROC, Матрица ошибок и т.д.\n",
        "from sklearn.metrics import precision_score, recall_score, f1_score\n",
        "\n",
        "print('Precision:', precision_score(y_test, pred, pos_label=\"girl\"))\n",
        "print('Recall:', recall_score(y_test, pred, pos_label=\"girl\"))\n",
        "print('F1-мера:', f1_score(y_test, pred, pos_label=\"girl\"))"
      ]
    },
    {
      "cell_type": "markdown",
      "metadata": {
        "id": "WoeVl04mlKzD"
      },
      "source": [
        "## Модифицирование функции get_features()"
      ]
    },
    {
      "cell_type": "code",
      "execution_count": null,
      "metadata": {
        "id": "IAsDfYrJlKzD",
        "outputId": "69664f89-f34c-4659-fe03-6291ab3576cf"
      },
      "outputs": [
        {
          "name": "stdout",
          "output_type": "stream",
          "text": [
            "defaultdict(<function train.<locals>.<lambda> at 0x00000269B8677560>, {'boy': 0.49859911406423035, 'girl': 0.5014008859357697}) defaultdict(<function train.<locals>.<lambda> at 0x00000269AC9B3880>, {('boy', 'W'): 0.03584794607260653, ('boy', 'i'): 0.34232123224538297, ('boy', 'l'): 0.3048630159805435, ('boy', 'a'): 0.4605150643552811, ('girl', 'A'): 0.09030070787273752, ('girl', 'n'): 0.41121773988713795, ('girl', 'i'): 0.5090941216745994, ('girl', 't'): 0.21851291508840126, ('girl', 'N'): 0.026437555906485704, ('girl', 'a'): 0.44399412498757634, ('girl', 'l'): 0.39964440714277827, ('boy', 'K'): 0.027030328606172334, ('boy', 'e'): 0.47072084578053686, ('boy', 'n'): 0.2548557975279576, ('boy', 'E'): 0.06623207880329161, ('boy', 'r'): 0.42183526380667874, ('boy', 'M'): 0.06756471620376026, ('boy', 'x'): 0.005863604562062035, ('boy', 'B'): 0.06153453196663965, ('boy', 'o'): 0.33128255244483434, ('boy', 'A'): 0.08279009850411452, ('girl', 'M'): 0.10304462579925569, ('girl', 'o'): 0.21293607058849515, ('boy', 'L'): 0.05880262529567892, ('boy', 'u'): 0.1321198929447955, ('boy', 'k'): 0.023709840416671294, ('girl', 'D'): 0.05238920852981127, ('girl', 'e'): 0.48113259638002054, ('girl', 'm'): 0.07024615418594635, ('girl', 'r'): 0.35339524919108145, ('girl', 'K'): 0.046171855156648595, ('girl', 'E'): 0.06638101443353617, ('girl', 'd'): 0.12193963756032379, ('girl', 'J'): 0.07220081057502237, ('girl', 's'): 0.1463673207955562, ('girl', 'B'): 0.04103674091416077, ('girl', 'c'): 0.08282442326593266, ('boy', 'R'): 0.0690195120326052, ('boy', 'c'): 0.09704931868912901, ('girl', 'L'): 0.0909301734895586, ('boy', 't'): 0.1530534054438238, ('boy', 'h'): 0.08868701900118826, ('boy', 'H'): 0.04029007074083534, ('boy', 'y'): 0.05708130198674026, ('boy', 'w'): 0.03234977289637634, ('boy', 'G'): 0.043699401423700955, ('boy', 'D'): 0.07407242884271548, ('girl', 'R'): 0.04918666416352854, ('girl', 'h'): 0.1110289002020916, ('boy', 'J'): 0.07621575399513587, ('boy', 'S'): 0.048297000455317776, ('boy', 'm'): 0.10049196530700634, ('boy', 'd'): 0.11707219563117038, ('boy', 'T'): 0.039368329872177865, ('girl', 'C'): 0.08300111536889998, ('boy', 'N'): 0.02321010139149555, ('girl', 'P'): 0.022992059898622907, ('girl', 'S'): 0.056994246463397125, ('girl', 'v'): 0.0442392852804435, ('boy', 'C'): 0.0747720634779615, ('boy', 'f'): 0.031394716092707144, ('girl', 'T'): 0.035095468951884534, ('girl', 'f'): 0.009707022406767308, ('girl', 'Z'): 0.0065596943226618664, ('boy', 'b'): 0.04650904527635568, ('girl', 'u'): 0.08635826532527911, ('boy', 'v'): 0.05766988350528057, ('boy', 's'): 0.11948204826368453, ('girl', 'F'): 0.021744171921416186, ('boy', 'I'): 0.016280386909058604, ('girl', 'W'): 0.010226055459233819, ('girl', 'p'): 0.01514030457301249, ('boy', 'g'): 0.04029007074083534, ('boy', 'O'): 0.021555409952580318, ('boy', 'P'): 0.0214443568358746, ('girl', 'k'): 0.01532803993241527, ('girl', 'y'): 0.07861694256402328, ('girl', 'H'): 0.02416264508078142, ('girl', 'g'): 0.045995163053681266, ('girl', 'b'): 0.04832529016156284, ('girl', 'G'): 0.03378132143606507, ('girl', 'U'): 0.0016123154395768224, ('girl', 'z'): 0.014223714288869501, ('boy', 'j'): 0.00469754683665197, ('girl', 'I'): 0.020176029507581194, ('girl', 'w'): 0.00912172981568805, ('boy', 'F'): 0.027752173864759516, ('boy', 'p'): 0.021932990549379767, ('girl', 'V'): 0.02592956611045465, ('boy', 'z'): 0.009783779581773962, ('girl', 'O'): 0.013870330082934855, ('girl', 'q'): 0.005046768191004163, ('boy', 'V'): 0.014336957366708496, ('boy', 'Z'): 0.003564805046253623, ('girl', 'Q'): 0.001126412156416684, ('boy', 'Q'): 0.002942907592701589, ('girl', 'Y'): 0.004527735138537652, ('girl', 'x'): 0.007630890196901262, ('boy', 'U'): 0.0020989039057381143, ('girl', 'j'): 0.0038099234702329023, ('boy', 'q'): 0.0047197574599931146, ('boy', 'Y'): 0.000621897453552034, ('boy', 'X'): 0.00065521338856375, ('girl', 'X'): 0.00012147582079003457})\n"
          ]
        }
      ],
      "source": [
        "def get_features_2(sample):\n",
        "    return (sample[:-1]) #Имя целиком без последней буквы\n",
        "features = [(get_features_2(name[i]), rez[i]) for i in range(len(X_train))]\n",
        "classifier = train(features)\n",
        "pred = [classify(classifier, get_features_2(n)) for n in X_test['name']]"
      ]
    },
    {
      "cell_type": "code",
      "execution_count": null,
      "metadata": {
        "id": "2dOfcmAxlKzE",
        "outputId": "7e44743c-579e-412a-96dd-4ea4a18bdff1"
      },
      "outputs": [
        {
          "name": "stdout",
          "output_type": "stream",
          "text": [
            "Precision: 0.6093356897806425\n",
            "Recall: 0.76224412828049\n",
            "F1-мера: 0.6772665295463475\n",
            "Cредняя доля: 0.6391472868217054\n"
          ]
        }
      ],
      "source": [
        "print('Precision:', precision_score(y_test, pred, pos_label=\"girl\"))\n",
        "print('Recall:', recall_score(y_test, pred, pos_label=\"girl\"))\n",
        "print('F1-мера:', f1_score(y_test, pred, pos_label=\"girl\"))\n",
        "print('Cредняя доля:', np.mean(pred == y_test))"
      ]
    },
    {
      "cell_type": "markdown",
      "metadata": {
        "id": "rady8vrmlKzE"
      },
      "source": [
        "## Модификация метода classify()"
      ]
    },
    {
      "cell_type": "code",
      "execution_count": null,
      "metadata": {
        "id": "Lw-loqQSlKzE"
      },
      "outputs": [],
      "source": [
        "def classify_2(classifier, feats):\n",
        "    classes, prob = classifier\n",
        "    try:\n",
        "        return max(classes.keys(),\n",
        "            key = lambda cl: classes[cl] + sum(prob.get((cl,feat)) for feat in feats))\n",
        "    except:\n",
        "        return min(classes.keys(),key = lambda x: classes.get(x,0))"
      ]
    },
    {
      "cell_type": "code",
      "execution_count": null,
      "metadata": {
        "id": "dM74tt4ElKzF",
        "outputId": "7a98a261-2b40-43ad-acc6-01fe3bc6cd46"
      },
      "outputs": [
        {
          "name": "stdout",
          "output_type": "stream",
          "text": [
            "defaultdict(<function train.<locals>.<lambda> at 0x00000269B8674A40>, {'boy': 0.49859911406423035, 'girl': 0.5014008859357697}) defaultdict(<function train.<locals>.<lambda> at 0x00000269AC9B1940>, {('boy', 'm'): 0.0164802825191289, ('girl', 'a'): 0.38419489138957297, ('boy', 'y'): 0.11194154163936611, ('boy', 'c'): 0.009239619309915932, ('boy', 'e'): 0.13936055615400847, ('boy', 'b'): 0.004053438759758793, ('boy', 'n'): 0.21362177529512366, ('boy', 's'): 0.07881439692604973, ('girl', 'e'): 0.3024637505107506, ('girl', 's'): 0.022450940333285478, ('girl', 'y'): 0.07846233697392688, ('boy', 'd'): 0.07186247182027164, ('boy', 'k'): 0.022477150821237798, ('girl', 'd'): 0.007962187889964993, ('boy', 'l'): 0.08326762690594912, ('girl', 'n'): 0.08047220964518018, ('girl', 'h'): 0.02474793767186068, ('girl', 'i'): 0.0275087517807251, ('boy', 'a'): 0.01593612224727087, ('boy', 'o'): 0.06324474996390773, ('boy', 'p'): 0.0031872244494541738, ('boy', 't'): 0.0526169666951703, ('girl', 'l'): 0.03481938754099809, ('girl', 'o'): 0.005223460293971486, ('boy', 'f'): 0.003498173176230191, ('boy', 'r'): 0.05961331304763068, ('boy', 'h'): 0.02624185147756172, ('girl', 'w'): 0.0003754707188055614, ('boy', 'x'): 0.00441991404488767, ('girl', 'm'): 0.0029595927247026603, ('boy', 'g'): 0.006241185158861484, ('boy', 'i'): 0.0052528124201805726, ('girl', 't'): 0.010734045255264873, ('boy', 'z'): 0.0021100092174086865, ('girl', 'r'): 0.0118494141552461, ('girl', 'z'): 0.0019436131326405531, ('girl', 'u'): 0.0018110940554150608, ('boy', 'v'): 0.0005996868302108898, ('boy', 'w'): 0.004897442446722267, ('girl', 'k'): 0.0009276335405784458, ('girl', 'g'): 0.0005411195653374267, ('boy', 'j'): 0.00012215842837629237, ('girl', 'x'): 0.00014356233366094994, ('boy', 'u'): 0.0007773718169400424, ('boy', 'q'): 0.00012215842837629237, ('girl', 'c'): 0.00029816792375735756, ('girl', 'b'): 8.83460514836615e-05, ('girl', 'v'): 2.2086512870915375e-05})\n"
          ]
        }
      ],
      "source": [
        "features = [(get_features(name[i]), rez[i]) for i in range(len(X_train))]\n",
        "classifier = train(features)\n",
        "pred = [classify_2(classifier, get_features(n)) for n in X_test['name']]"
      ]
    },
    {
      "cell_type": "code",
      "execution_count": null,
      "metadata": {
        "id": "L8CMnQJOlKzF",
        "outputId": "a62d7e55-d9ad-4dd9-8118-cc30772b4993"
      },
      "outputs": [
        {
          "name": "stdout",
          "output_type": "stream",
          "text": [
            "Precision: 0.7948146704168871\n",
            "Recall: 0.7423466070174526\n",
            "F1-мера: 0.7676851901662274\n",
            "Cредняя доля: 0.7768217054263565\n"
          ]
        }
      ],
      "source": [
        "print('Precision:', precision_score(y_test, pred, pos_label=\"girl\"))\n",
        "print('Recall:', recall_score(y_test, pred, pos_label=\"girl\"))\n",
        "print('F1-мера:', f1_score(y_test, pred, pos_label=\"girl\"))\n",
        "print('Cредняя доля:', np.mean(pred == y_test))"
      ]
    },
    {
      "cell_type": "markdown",
      "metadata": {
        "id": "PBocNdHalKzF"
      },
      "source": [
        "## Улучшилась ли доля правильных ответов?"
      ]
    },
    {
      "cell_type": "markdown",
      "metadata": {
        "id": "vUHVHA1tlKzF"
      },
      "source": [
        "### При модификации classify() средняя точность чуть-чуть выросла, но при изменении get_features() средняя точность резко упала. Изменение классификатора не сильно меняет точность, но если бы мы изменили бы функцию train(), то точность резко бы изменилась. Также насчет изменения точности при изменении get_features() можно сказать, что выбор целевого признака в виде всего слова кроме последней буквы очень плохо сказался на точности, я это связываю просто с неудачным выбором целевого признака."
      ]
    },
    {
      "cell_type": "markdown",
      "metadata": {
        "id": "Tx5y_pmnlKzG"
      },
      "source": [
        "## Запуск гауссовского и мультиномиального классификатор"
      ]
    },
    {
      "cell_type": "code",
      "execution_count": null,
      "metadata": {
        "id": "F-4CXm-FlKzG",
        "outputId": "b8a7fe70-5920-47d7-aa2c-faebe4aa83e7"
      },
      "outputs": [
        {
          "name": "stdout",
          "output_type": "stream",
          "text": [
            "[1 1 0 ... 0 1 1] [1 1 0 ... 0 1 1]\n"
          ]
        }
      ],
      "source": [
        "from sklearn.naive_bayes import GaussianNB, MultinomialNB\n",
        "from sklearn.preprocessing import LabelEncoder\n",
        "df['sex'] = df['sex'].astype('category').cat.codes\n",
        "le = LabelEncoder()\n",
        "df['name'] = le.fit_transform(df['name'])\n",
        "X = df.drop(['sex'], axis=1)\n",
        "y = df['sex']\n",
        "X_train, X_test, y_train, y_test = train_test_split(\n",
        "    X, y,\n",
        "    test_size=0.3,\n",
        "    random_state=1\n",
        ")\n",
        "gnb = GaussianNB()\n",
        "pred = gnb.fit(X_train, y_train).predict(X_test)\n",
        "mnb = MultinomialNB()\n",
        "pred_2 = mnb.fit(X_train,y_train).predict(X_test)\n",
        "print(pred,pred_2)"
      ]
    },
    {
      "cell_type": "markdown",
      "metadata": {
        "id": "ezYn9a1LlKzG"
      },
      "source": [
        "### Гауссовский классификатор"
      ]
    },
    {
      "cell_type": "code",
      "execution_count": null,
      "metadata": {
        "id": "2beG_lyUlKzG",
        "outputId": "3ddff706-c57c-4d8d-cdd0-edf6297b978d"
      },
      "outputs": [
        {
          "name": "stdout",
          "output_type": "stream",
          "text": [
            "Cредняя доля: 0.5070155038759689\n",
            "Precision: 0.5026891691394659\n",
            "Recall: 0.7049964886727182\n",
            "F1-мера: 0.5868979180876287\n"
          ]
        }
      ],
      "source": [
        "print('Cредняя доля:', np.mean(pred == y_test))\n",
        "print('Precision:', precision_score(y_test, pred, pos_label=1))\n",
        "print('Recall:', recall_score(y_test, pred, pos_label=1))\n",
        "print('F1-мера:', f1_score(y_test, pred, pos_label=1))"
      ]
    },
    {
      "cell_type": "markdown",
      "metadata": {
        "id": "stRSFxsDlKzH"
      },
      "source": [
        "### Мультиномиальный классификатор"
      ]
    },
    {
      "cell_type": "code",
      "execution_count": null,
      "metadata": {
        "id": "qoby9_LIlKzH",
        "outputId": "f0515770-fcb2-4b07-8d94-03f6c2d70c20"
      },
      "outputs": [
        {
          "name": "stdout",
          "output_type": "stream",
          "text": [
            "Cредняя доля: 0.5233462532299742\n",
            "Precision: 0.5203307342090114\n",
            "Recall: 0.5172315135121076\n",
            "F1-мера: 0.5187764951411987\n"
          ]
        }
      ],
      "source": [
        "print('Cредняя доля:', np.mean(pred_2 == y_test))\n",
        "print('Precision:', precision_score(y_test, pred_2, pos_label=1))\n",
        "print('Recall:', recall_score(y_test, pred_2, pos_label=1))\n",
        "print('F1-мера:', f1_score(y_test, pred_2, pos_label=1))"
      ]
    },
    {
      "cell_type": "markdown",
      "metadata": {
        "id": "5cX8trHrlKzH"
      },
      "source": [
        "## Лучше всех как видно по доле правильных ответов показал себя наивный классификатор. Все остальные из sklearn дали результат хуже\n"
      ]
    },
    {
      "cell_type": "markdown",
      "metadata": {
        "id": "PzsVdLn4lKzH"
      },
      "source": [
        "# Задание 2"
      ]
    },
    {
      "cell_type": "code",
      "execution_count": null,
      "metadata": {
        "id": "6pA9ielWlKzH"
      },
      "outputs": [],
      "source": [
        "from sklearn.datasets import load_iris\n",
        "iris = load_iris()\n",
        "iris_df = pd.DataFrame(data=iris.data, columns=iris.feature_names)\n",
        "iris_df['target'] = iris.target\n",
        "iris_df.to_csv('iris_dataset.csv', index=False)"
      ]
    },
    {
      "cell_type": "code",
      "execution_count": null,
      "metadata": {
        "id": "E5WgtW3KlKzH",
        "outputId": "4084486e-5845-47cb-bee8-854f529a420d"
      },
      "outputs": [
        {
          "data": {
            "text/html": [
              "<div>\n",
              "<style scoped>\n",
              "    .dataframe tbody tr th:only-of-type {\n",
              "        vertical-align: middle;\n",
              "    }\n",
              "\n",
              "    .dataframe tbody tr th {\n",
              "        vertical-align: top;\n",
              "    }\n",
              "\n",
              "    .dataframe thead th {\n",
              "        text-align: right;\n",
              "    }\n",
              "</style>\n",
              "<table border=\"1\" class=\"dataframe\">\n",
              "  <thead>\n",
              "    <tr style=\"text-align: right;\">\n",
              "      <th></th>\n",
              "      <th>sepal length (cm)</th>\n",
              "      <th>sepal width (cm)</th>\n",
              "      <th>petal length (cm)</th>\n",
              "      <th>petal width (cm)</th>\n",
              "      <th>target</th>\n",
              "    </tr>\n",
              "  </thead>\n",
              "  <tbody>\n",
              "    <tr>\n",
              "      <th>0</th>\n",
              "      <td>5.1</td>\n",
              "      <td>3.5</td>\n",
              "      <td>1.4</td>\n",
              "      <td>0.2</td>\n",
              "      <td>0</td>\n",
              "    </tr>\n",
              "    <tr>\n",
              "      <th>1</th>\n",
              "      <td>4.9</td>\n",
              "      <td>3.0</td>\n",
              "      <td>1.4</td>\n",
              "      <td>0.2</td>\n",
              "      <td>0</td>\n",
              "    </tr>\n",
              "    <tr>\n",
              "      <th>2</th>\n",
              "      <td>4.7</td>\n",
              "      <td>3.2</td>\n",
              "      <td>1.3</td>\n",
              "      <td>0.2</td>\n",
              "      <td>0</td>\n",
              "    </tr>\n",
              "    <tr>\n",
              "      <th>3</th>\n",
              "      <td>4.6</td>\n",
              "      <td>3.1</td>\n",
              "      <td>1.5</td>\n",
              "      <td>0.2</td>\n",
              "      <td>0</td>\n",
              "    </tr>\n",
              "    <tr>\n",
              "      <th>4</th>\n",
              "      <td>5.0</td>\n",
              "      <td>3.6</td>\n",
              "      <td>1.4</td>\n",
              "      <td>0.2</td>\n",
              "      <td>0</td>\n",
              "    </tr>\n",
              "    <tr>\n",
              "      <th>...</th>\n",
              "      <td>...</td>\n",
              "      <td>...</td>\n",
              "      <td>...</td>\n",
              "      <td>...</td>\n",
              "      <td>...</td>\n",
              "    </tr>\n",
              "    <tr>\n",
              "      <th>145</th>\n",
              "      <td>6.7</td>\n",
              "      <td>3.0</td>\n",
              "      <td>5.2</td>\n",
              "      <td>2.3</td>\n",
              "      <td>2</td>\n",
              "    </tr>\n",
              "    <tr>\n",
              "      <th>146</th>\n",
              "      <td>6.3</td>\n",
              "      <td>2.5</td>\n",
              "      <td>5.0</td>\n",
              "      <td>1.9</td>\n",
              "      <td>2</td>\n",
              "    </tr>\n",
              "    <tr>\n",
              "      <th>147</th>\n",
              "      <td>6.5</td>\n",
              "      <td>3.0</td>\n",
              "      <td>5.2</td>\n",
              "      <td>2.0</td>\n",
              "      <td>2</td>\n",
              "    </tr>\n",
              "    <tr>\n",
              "      <th>148</th>\n",
              "      <td>6.2</td>\n",
              "      <td>3.4</td>\n",
              "      <td>5.4</td>\n",
              "      <td>2.3</td>\n",
              "      <td>2</td>\n",
              "    </tr>\n",
              "    <tr>\n",
              "      <th>149</th>\n",
              "      <td>5.9</td>\n",
              "      <td>3.0</td>\n",
              "      <td>5.1</td>\n",
              "      <td>1.8</td>\n",
              "      <td>2</td>\n",
              "    </tr>\n",
              "  </tbody>\n",
              "</table>\n",
              "<p>150 rows × 5 columns</p>\n",
              "</div>"
            ],
            "text/plain": [
              "     sepal length (cm)  sepal width (cm)  petal length (cm)  petal width (cm)  \\\n",
              "0                  5.1               3.5                1.4               0.2   \n",
              "1                  4.9               3.0                1.4               0.2   \n",
              "2                  4.7               3.2                1.3               0.2   \n",
              "3                  4.6               3.1                1.5               0.2   \n",
              "4                  5.0               3.6                1.4               0.2   \n",
              "..                 ...               ...                ...               ...   \n",
              "145                6.7               3.0                5.2               2.3   \n",
              "146                6.3               2.5                5.0               1.9   \n",
              "147                6.5               3.0                5.2               2.0   \n",
              "148                6.2               3.4                5.4               2.3   \n",
              "149                5.9               3.0                5.1               1.8   \n",
              "\n",
              "     target  \n",
              "0         0  \n",
              "1         0  \n",
              "2         0  \n",
              "3         0  \n",
              "4         0  \n",
              "..      ...  \n",
              "145       2  \n",
              "146       2  \n",
              "147       2  \n",
              "148       2  \n",
              "149       2  \n",
              "\n",
              "[150 rows x 5 columns]"
            ]
          },
          "execution_count": 632,
          "metadata": {},
          "output_type": "execute_result"
        }
      ],
      "source": [
        "iris_df"
      ]
    },
    {
      "cell_type": "code",
      "execution_count": null,
      "metadata": {
        "id": "Ro9tPCszlKzI"
      },
      "outputs": [],
      "source": [
        "X = iris_df.drop(['target'], axis=1)\n",
        "y = iris_df['target']\n",
        "X_train, X_test, y_train, y_test = train_test_split(\n",
        "    X, y,\n",
        "    test_size=0.3,\n",
        "    random_state=1\n",
        ")"
      ]
    },
    {
      "cell_type": "code",
      "execution_count": null,
      "metadata": {
        "id": "scKDSZuelKzI",
        "outputId": "b79c36a5-2cf4-4211-da04-45e3ea3e3106"
      },
      "outputs": [
        {
          "name": "stdout",
          "output_type": "stream",
          "text": [
            "[0 1 1 0 2 1 2 0 0 2 1 0 2 1 1 0 1 1 0 0 1 1 1 0 2 1 0 0 1 2 1 2 1 2 2 0 1\n",
            " 0 1 2 2 0 2 2 1]\n"
          ]
        }
      ],
      "source": [
        "from sklearn.discriminant_analysis import LinearDiscriminantAnalysis\n",
        "lda = LinearDiscriminantAnalysis()\n",
        "pred = lda.fit(X_train, y_train).predict(X_test)\n",
        "print(pred)\n"
      ]
    },
    {
      "cell_type": "code",
      "execution_count": null,
      "metadata": {
        "id": "I6hmk9IHlKzJ",
        "outputId": "5e6eb54c-a709-4096-f16a-d762a29ce408"
      },
      "outputs": [
        {
          "name": "stdout",
          "output_type": "stream",
          "text": [
            "Cредняя доля правильных ответов: 1.0\n",
            "Precision(Точность): 1.0\n",
            "Recall(Полнота): 1.0\n",
            "F1-мера: 1.0\n"
          ]
        }
      ],
      "source": [
        "print('Cредняя доля правильных ответов:', np.mean(pred == y_test))\n",
        "print('Precision(Точность):', precision_score(y_test, pred,average = 'weighted'))\n",
        "print('Recall(Полнота):', recall_score(y_test, pred,average = 'weighted'))\n",
        "print('F1-мера:', f1_score(y_test, pred ,average = 'weighted'))"
      ]
    },
    {
      "cell_type": "markdown",
      "metadata": {
        "id": "uzHKnDCAlKzJ"
      },
      "source": [
        "### Здесь выдается идеальный результат, что является следствием того, что load_iris достаточно простой датасет, который спокойно линейно разделим. Так что можно посмотреть также эффективность по различным оценкам на кросс-валидации."
      ]
    },
    {
      "cell_type": "code",
      "execution_count": null,
      "metadata": {
        "id": "pdLyN4wSlKzK",
        "outputId": "4c24efb4-8724-45e4-def8-b91919d87a47"
      },
      "outputs": [
        {
          "name": "stdout",
          "output_type": "stream",
          "text": [
            "Средняя доля правильных ответов: 0.9800000000000001\n"
          ]
        },
        {
          "name": "stdout",
          "output_type": "stream",
          "text": [
            "Precision(Точность): 0.9806060606060605\n",
            "Recall(Полнота): 0.9800000000000001\n",
            "F1-мера: 0.9799832915622388\n"
          ]
        }
      ],
      "source": [
        "from sklearn.model_selection import cross_val_score\n",
        "print('Средняя доля правильных ответов:',np.mean(cross_val_score(lda, X, y, cv= 5, scoring=\"accuracy\")))\n",
        "print('Precision(Точность):',np.mean(cross_val_score(lda, X, y, cv= 5, scoring=\"precision_macro\")))\n",
        "print('Recall(Полнота):',np.mean(cross_val_score(lda, X, y, cv= 5, scoring=\"recall_macro\")))\n",
        "print('F1-мера:',np.mean(cross_val_score(lda, X, y, cv= 5, scoring=\"f1_macro\")))"
      ]
    },
    {
      "cell_type": "markdown",
      "metadata": {
        "id": "HS7DHBYUlKzK"
      },
      "source": [
        "### Реализация из файла Sem3.ipynb"
      ]
    },
    {
      "cell_type": "code",
      "execution_count": null,
      "metadata": {
        "id": "mPalDAeBlKzK"
      },
      "outputs": [],
      "source": [
        "def LDA_dimensionality(X, y, k):\n",
        "    '''\n",
        "    X - набор данных, y - метка, k - целевой размер\n",
        "    '''\n",
        "    label_ = list(set(y))\n",
        "\n",
        "    X_classify = {}\n",
        "\n",
        "    for label in label_:\n",
        "        X1 = np.array([X[i] for i in range(len(X)) if y[i] == label])\n",
        "        X_classify[label] = X1\n",
        "\n",
        "    mju = np.mean(X, axis=0)\n",
        "    mju_classify = {}\n",
        "\n",
        "    for label in label_:\n",
        "        mju1 = np.mean(X_classify[label], axis=0)\n",
        "        mju_classify[label] = mju1\n",
        "\n",
        "    #St = np.dot((X - mju).T, X - mju)\n",
        "\n",
        "    Sw = np.zeros((len(mju), len(mju)))  # Вычислить матрицу внутриклассовой дивергенции\n",
        "    for i in label_:\n",
        "        Sw += np.dot((X_classify[i] - mju_classify[i]).T,\n",
        "                     X_classify[i] - mju_classify[i])\n",
        "\n",
        "    # Sb=St-Sw\n",
        "\n",
        "    Sb = np.zeros((len(mju), len(mju)))  # Вычислить матрицу внутриклассовой дивергенции\n",
        "    for i in label_:\n",
        "        Sb += len(X_classify[i]) * np.dot((mju_classify[i] - mju).reshape(\n",
        "            (len(mju), 1)), (mju_classify[i] - mju).reshape((1, len(mju))))\n",
        "\n",
        "    eig_vals, eig_vecs = np.linalg.eig(\n",
        "        np.linalg.inv(Sw).dot(Sb))  # Вычислить собственное значение и собственную матрицу Sw-1 * Sb\n",
        "\n",
        "    sorted_indices = np.argsort(eig_vals)\n",
        "    topk_eig_vecs = eig_vecs[:, sorted_indices[:-k - 1:-1]]  # Извлекаем первые k векторов признаков\n",
        "    return topk_eig_vecs\n"
      ]
    },
    {
      "cell_type": "markdown",
      "metadata": {
        "id": "RE20LIqelKzK"
      },
      "source": [
        "### Данная функция реализует метод Линейного Дискриминантного Анализа (LDA) для снижения размерности данных и проекции их на пространство меньшей размерности. Однако, для оценки точности классификации на датасете Iris после уменьшения размерности, нам потребуется дополнительно вычислить точность. Которую мы будем вычислять и другие оценки используя кросс-валидацию."
      ]
    },
    {
      "cell_type": "code",
      "execution_count": null,
      "metadata": {
        "id": "A-Q93CcnlKzL"
      },
      "outputs": [],
      "source": [
        "X = iris.data\n",
        "y = iris.target\n",
        "lda_2 = LDA_dimensionality(X, y, 2)"
      ]
    },
    {
      "cell_type": "markdown",
      "metadata": {
        "id": "GoofkhrJlKzL"
      },
      "source": [
        "### Заметим, что MultinomialNB принимает на вход только неотрицательные значения. Если используется LinearDiscriminantAnalysis (LDA) для преобразования данных, результаты могут быть отрицательными значениями, что может вызвать проблему при использовании MultinomialNB. Поэтому будем использовать GaussianNB()"
      ]
    },
    {
      "cell_type": "code",
      "execution_count": null,
      "metadata": {
        "id": "OxadCwPPlKzS",
        "outputId": "22dcee3e-ce5b-46b9-c32b-b450b2c1a154"
      },
      "outputs": [
        {
          "name": "stdout",
          "output_type": "stream",
          "text": [
            "Средняя доля правильных ответов: 0.9800000000000001\n",
            "Precision(Точность): 0.9806060606060605\n",
            "Recall(Полнота): 0.9800000000000001\n",
            "F1-мера: 0.9799832915622388\n"
          ]
        }
      ],
      "source": [
        "mnb_2 = GaussianNB() # саму точность и другие параметры будем вычислять через знакомую из 1 части модель\n",
        "X = X.dot(lda_2)\n",
        "print('Средняя доля правильных ответов:',np.mean(cross_val_score(mnb_2, X, y, cv= 5, scoring=\"accuracy\")))\n",
        "print('Precision(Точность):',np.mean(cross_val_score(mnb_2, X, y, cv= 5, scoring=\"precision_macro\")))\n",
        "print('Recall(Полнота):',np.mean(cross_val_score(mnb_2, X, y, cv= 5, scoring=\"recall_macro\")))\n",
        "print('F1-мера:',np.mean(cross_val_score(mnb_2, X, y, cv= 5, scoring=\"f1_macro\")))"
      ]
    },
    {
      "cell_type": "markdown",
      "metadata": {
        "id": "43_MUAPelKzS"
      },
      "source": [
        "### Результаты нашего LDA и LDA из sklearn дают одинаковые высокие значения на кросс-валидации по всем параметрам. Для того, чтобы еще попытаться улучшить данный результат постраемся поменять параметр solver и другие"
      ]
    },
    {
      "cell_type": "markdown",
      "metadata": {
        "id": "8aTfIPZWlKzS"
      },
      "source": [
        "### Рассмотрим основные параметры и их влияние:\n",
        "\n",
        "### 1) Solver (solver): Этот параметр определяет метод решения для обучения LDA. Например, svd использует сингулярное разложение, lsqr и eigen используют итеративные методы. svd может быть более подходящим для больших наборов данных, lsqr и eigen могут быть эффективны для данных с меньшим числом объектов.\n",
        "\n",
        "### 2) Shrinkage (shrinkage): Регуляризация позволяет улучшить обобщение модели и уменьшить переобучение. Относительно solver, он может улучшить производительность, особенно когда данных ограниченное количество."
      ]
    },
    {
      "cell_type": "markdown",
      "metadata": {
        "id": "ZgNNqqjalKzS"
      },
      "source": [
        "### Найдем с помощью GridSearchCV лучшие значения параметров"
      ]
    },
    {
      "cell_type": "code",
      "execution_count": null,
      "metadata": {
        "id": "HJQSOZS2lKzT",
        "outputId": "df4b74ae-8e6b-4919-9f17-faf1055bf95f"
      },
      "outputs": [
        {
          "name": "stdout",
          "output_type": "stream",
          "text": [
            "Наилучшие параметры: {'shrinkage': None, 'solver': 'svd'}\n"
          ]
        }
      ],
      "source": [
        "import warnings\n",
        "from sklearn.model_selection import GridSearchCV\n",
        "warnings.filterwarnings('ignore')\n",
        "iris = load_iris()\n",
        "lda = LinearDiscriminantAnalysis()\n",
        "parameters = {'solver': ['svd', 'lsqr', 'eigen'], 'shrinkage': [None, 'auto']}\n",
        "clf = GridSearchCV(lda, parameters, cv=5, scoring='accuracy')\n",
        "clf.fit(iris.data, iris.target)\n",
        "print(\"Наилучшие параметры:\", clf.best_params_)"
      ]
    },
    {
      "cell_type": "markdown",
      "metadata": {
        "id": "nUfM4UTYlKzT"
      },
      "source": [
        "### По итогу с помощью GridSearchCV стало ястно, что параметры: 'shrinkage': None, 'solver': 'svd' в LDA() являются наилучшими для данного датасета.\n",
        "\n",
        "### Видимо, solver выбирается svd, потому что размер данных уже не мал, а shrinkage оставляет None, потому что никакого прироста производительности не появляется"
      ]
    }
  ],
  "metadata": {
    "kernelspec": {
      "display_name": "Python 3",
      "language": "python",
      "name": "python3"
    },
    "language_info": {
      "codemirror_mode": {
        "name": "ipython",
        "version": 3
      },
      "file_extension": ".py",
      "mimetype": "text/x-python",
      "name": "python",
      "nbconvert_exporter": "python",
      "pygments_lexer": "ipython3",
      "version": "3.11.2"
    },
    "colab": {
      "provenance": [],
      "include_colab_link": true
    }
  },
  "nbformat": 4,
  "nbformat_minor": 0
}