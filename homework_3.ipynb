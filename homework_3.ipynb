{
 "cells": [
  {
   "cell_type": "markdown",
   "metadata": {},
   "source": [
    "# Линейная классификация: логистическая регрессия и метрики качества"
   ]
  },
  {
   "cell_type": "markdown",
   "metadata": {},
   "source": [
    "## Дедлайн:\n",
    "9 ноября, 23:59\n"
   ]
  },
  {
   "cell_type": "markdown",
   "metadata": {},
   "source": [
    "![raven](./moon_raven.jpg)"
   ]
  },
  {
   "cell_type": "markdown",
   "metadata": {},
   "source": [
    "В этом задании мы будем, используя метеоданные из Австралии, отвечать на вопрос: \"будет ли завтра дождь\". Построив модель, оценим её качество, используя пройденные метрики качества классификации. В качестве базовой модели предлагается использовать логистическую регрессию. Чтобы вспомнить о том, что значат все эти слова, можно ознакомиться с приложенными к заданию pdf, лекциями с 5 по 8 [данного плейлиста](https://www.youtube.com/playlist?list=PLEwK9wdS5g0oZwFwoQT-BrjmkazJWXxfe) или любыми другими источниками."
   ]
  },
  {
   "cell_type": "markdown",
   "metadata": {},
   "source": [
    "Импортируем библиотеки и прочитаем датасет:"
   ]
  },
  {
   "cell_type": "code",
   "execution_count": 1,
   "metadata": {},
   "outputs": [],
   "source": [
    "import numpy as np # linear algebra\n",
    "import pandas as pd # data processing, CSV file I/O (e.g. pd.read_csv)\n",
    "import matplotlib.pyplot as plt # data visualization\n",
    "import seaborn as sns # statistical data visualization\n",
    "%matplotlib inline\n",
    "\n",
    "data = 'weatherAUS.csv'\n",
    "\n",
    "df = pd.read_csv(data)"
   ]
  },
  {
   "cell_type": "code",
   "execution_count": 2,
   "metadata": {},
   "outputs": [],
   "source": [
    "import warnings\n",
    "\n",
    "warnings.filterwarnings('ignore')"
   ]
  },
  {
   "cell_type": "markdown",
   "metadata": {},
   "source": [
    "### Знакомство с данными"
   ]
  },
  {
   "cell_type": "code",
   "execution_count": 3,
   "metadata": {},
   "outputs": [
    {
     "data": {
      "text/html": [
       "<div>\n",
       "<style scoped>\n",
       "    .dataframe tbody tr th:only-of-type {\n",
       "        vertical-align: middle;\n",
       "    }\n",
       "\n",
       "    .dataframe tbody tr th {\n",
       "        vertical-align: top;\n",
       "    }\n",
       "\n",
       "    .dataframe thead th {\n",
       "        text-align: right;\n",
       "    }\n",
       "</style>\n",
       "<table border=\"1\" class=\"dataframe\">\n",
       "  <thead>\n",
       "    <tr style=\"text-align: right;\">\n",
       "      <th></th>\n",
       "      <th>Date</th>\n",
       "      <th>Location</th>\n",
       "      <th>MinTemp</th>\n",
       "      <th>MaxTemp</th>\n",
       "      <th>Rainfall</th>\n",
       "      <th>Evaporation</th>\n",
       "      <th>Sunshine</th>\n",
       "      <th>WindGustDir</th>\n",
       "      <th>WindGustSpeed</th>\n",
       "      <th>WindDir9am</th>\n",
       "      <th>...</th>\n",
       "      <th>Humidity9am</th>\n",
       "      <th>Humidity3pm</th>\n",
       "      <th>Pressure9am</th>\n",
       "      <th>Pressure3pm</th>\n",
       "      <th>Cloud9am</th>\n",
       "      <th>Cloud3pm</th>\n",
       "      <th>Temp9am</th>\n",
       "      <th>Temp3pm</th>\n",
       "      <th>RainToday</th>\n",
       "      <th>RainTomorrow</th>\n",
       "    </tr>\n",
       "  </thead>\n",
       "  <tbody>\n",
       "    <tr>\n",
       "      <th>0</th>\n",
       "      <td>2008-12-01</td>\n",
       "      <td>Albury</td>\n",
       "      <td>13.4</td>\n",
       "      <td>22.9</td>\n",
       "      <td>0.6</td>\n",
       "      <td>NaN</td>\n",
       "      <td>NaN</td>\n",
       "      <td>W</td>\n",
       "      <td>44.0</td>\n",
       "      <td>W</td>\n",
       "      <td>...</td>\n",
       "      <td>71.0</td>\n",
       "      <td>22.0</td>\n",
       "      <td>1007.7</td>\n",
       "      <td>1007.1</td>\n",
       "      <td>8.0</td>\n",
       "      <td>NaN</td>\n",
       "      <td>16.9</td>\n",
       "      <td>21.8</td>\n",
       "      <td>No</td>\n",
       "      <td>No</td>\n",
       "    </tr>\n",
       "    <tr>\n",
       "      <th>1</th>\n",
       "      <td>2008-12-02</td>\n",
       "      <td>Albury</td>\n",
       "      <td>7.4</td>\n",
       "      <td>25.1</td>\n",
       "      <td>0.0</td>\n",
       "      <td>NaN</td>\n",
       "      <td>NaN</td>\n",
       "      <td>WNW</td>\n",
       "      <td>44.0</td>\n",
       "      <td>NNW</td>\n",
       "      <td>...</td>\n",
       "      <td>44.0</td>\n",
       "      <td>25.0</td>\n",
       "      <td>1010.6</td>\n",
       "      <td>1007.8</td>\n",
       "      <td>NaN</td>\n",
       "      <td>NaN</td>\n",
       "      <td>17.2</td>\n",
       "      <td>24.3</td>\n",
       "      <td>No</td>\n",
       "      <td>No</td>\n",
       "    </tr>\n",
       "    <tr>\n",
       "      <th>2</th>\n",
       "      <td>2008-12-03</td>\n",
       "      <td>Albury</td>\n",
       "      <td>12.9</td>\n",
       "      <td>25.7</td>\n",
       "      <td>0.0</td>\n",
       "      <td>NaN</td>\n",
       "      <td>NaN</td>\n",
       "      <td>WSW</td>\n",
       "      <td>46.0</td>\n",
       "      <td>W</td>\n",
       "      <td>...</td>\n",
       "      <td>38.0</td>\n",
       "      <td>30.0</td>\n",
       "      <td>1007.6</td>\n",
       "      <td>1008.7</td>\n",
       "      <td>NaN</td>\n",
       "      <td>2.0</td>\n",
       "      <td>21.0</td>\n",
       "      <td>23.2</td>\n",
       "      <td>No</td>\n",
       "      <td>No</td>\n",
       "    </tr>\n",
       "    <tr>\n",
       "      <th>3</th>\n",
       "      <td>2008-12-04</td>\n",
       "      <td>Albury</td>\n",
       "      <td>9.2</td>\n",
       "      <td>28.0</td>\n",
       "      <td>0.0</td>\n",
       "      <td>NaN</td>\n",
       "      <td>NaN</td>\n",
       "      <td>NE</td>\n",
       "      <td>24.0</td>\n",
       "      <td>SE</td>\n",
       "      <td>...</td>\n",
       "      <td>45.0</td>\n",
       "      <td>16.0</td>\n",
       "      <td>1017.6</td>\n",
       "      <td>1012.8</td>\n",
       "      <td>NaN</td>\n",
       "      <td>NaN</td>\n",
       "      <td>18.1</td>\n",
       "      <td>26.5</td>\n",
       "      <td>No</td>\n",
       "      <td>No</td>\n",
       "    </tr>\n",
       "    <tr>\n",
       "      <th>4</th>\n",
       "      <td>2008-12-05</td>\n",
       "      <td>Albury</td>\n",
       "      <td>17.5</td>\n",
       "      <td>32.3</td>\n",
       "      <td>1.0</td>\n",
       "      <td>NaN</td>\n",
       "      <td>NaN</td>\n",
       "      <td>W</td>\n",
       "      <td>41.0</td>\n",
       "      <td>ENE</td>\n",
       "      <td>...</td>\n",
       "      <td>82.0</td>\n",
       "      <td>33.0</td>\n",
       "      <td>1010.8</td>\n",
       "      <td>1006.0</td>\n",
       "      <td>7.0</td>\n",
       "      <td>8.0</td>\n",
       "      <td>17.8</td>\n",
       "      <td>29.7</td>\n",
       "      <td>No</td>\n",
       "      <td>No</td>\n",
       "    </tr>\n",
       "  </tbody>\n",
       "</table>\n",
       "<p>5 rows × 23 columns</p>\n",
       "</div>"
      ],
      "text/plain": [
       "         Date Location  MinTemp  MaxTemp  Rainfall  Evaporation  Sunshine  \\\n",
       "0  2008-12-01   Albury     13.4     22.9       0.6          NaN       NaN   \n",
       "1  2008-12-02   Albury      7.4     25.1       0.0          NaN       NaN   \n",
       "2  2008-12-03   Albury     12.9     25.7       0.0          NaN       NaN   \n",
       "3  2008-12-04   Albury      9.2     28.0       0.0          NaN       NaN   \n",
       "4  2008-12-05   Albury     17.5     32.3       1.0          NaN       NaN   \n",
       "\n",
       "  WindGustDir  WindGustSpeed WindDir9am  ... Humidity9am  Humidity3pm  \\\n",
       "0           W           44.0          W  ...        71.0         22.0   \n",
       "1         WNW           44.0        NNW  ...        44.0         25.0   \n",
       "2         WSW           46.0          W  ...        38.0         30.0   \n",
       "3          NE           24.0         SE  ...        45.0         16.0   \n",
       "4           W           41.0        ENE  ...        82.0         33.0   \n",
       "\n",
       "   Pressure9am  Pressure3pm  Cloud9am  Cloud3pm  Temp9am  Temp3pm  RainToday  \\\n",
       "0       1007.7       1007.1       8.0       NaN     16.9     21.8         No   \n",
       "1       1010.6       1007.8       NaN       NaN     17.2     24.3         No   \n",
       "2       1007.6       1008.7       NaN       2.0     21.0     23.2         No   \n",
       "3       1017.6       1012.8       NaN       NaN     18.1     26.5         No   \n",
       "4       1010.8       1006.0       7.0       8.0     17.8     29.7         No   \n",
       "\n",
       "   RainTomorrow  \n",
       "0            No  \n",
       "1            No  \n",
       "2            No  \n",
       "3            No  \n",
       "4            No  \n",
       "\n",
       "[5 rows x 23 columns]"
      ]
     },
     "execution_count": 3,
     "metadata": {},
     "output_type": "execute_result"
    }
   ],
   "source": [
    "# preview the dataset\n",
    "\n",
    "df.head()"
   ]
  },
  {
   "cell_type": "code",
   "execution_count": 4,
   "metadata": {},
   "outputs": [
    {
     "data": {
      "text/plain": [
       "Index(['Date', 'Location', 'MinTemp', 'MaxTemp', 'Rainfall', 'Evaporation',\n",
       "       'Sunshine', 'WindGustDir', 'WindGustSpeed', 'WindDir9am', 'WindDir3pm',\n",
       "       'WindSpeed9am', 'WindSpeed3pm', 'Humidity9am', 'Humidity3pm',\n",
       "       'Pressure9am', 'Pressure3pm', 'Cloud9am', 'Cloud3pm', 'Temp9am',\n",
       "       'Temp3pm', 'RainToday', 'RainTomorrow'],\n",
       "      dtype='object')"
      ]
     },
     "execution_count": 4,
     "metadata": {},
     "output_type": "execute_result"
    }
   ],
   "source": [
    "df.columns"
   ]
  },
  {
   "cell_type": "markdown",
   "metadata": {},
   "source": [
    "Признаки:\n",
    "\n",
    "Location - The common name of the location of the weather station\n",
    "\n",
    "MinTemp - The minimum temperature in degrees celsius\n",
    "\n",
    "MaxTemp - The maximum temperature in degrees celsius\n",
    "\n",
    "Rainfall - The amount of rainfall recorded for the day in mm\n",
    "\n",
    "Evaporation - The so-called Class A pan evaporation (mm) in the 24 hours to 9am\n",
    "\n",
    "Sunshine - The number of hours of bright sunshine in the day\n",
    "\n",
    "WindGustDir - The direction of the strongest wind gust in the 24 hours to midnight\n",
    "\n",
    "WindGustSpeed - The speed (km/h) of the strongest wind gust in the 24 hours to midnight\n",
    "\n",
    "WindGust9am - Direction of the wind at 9am\n",
    "\n",
    "WindGust3pm - Direction of the wind at 3pm\n",
    "\n",
    "WindSpeed9am - Wind speed (km/hr) averaged over 10 minutes prior to 9am\n",
    "\n",
    "WindSpeed3pm - Wind speed (km/hr) averaged over 10 minutes prior to 3pm\n",
    "\n",
    "Humidity9am - Humidity (percent) at 9am\n",
    "\n",
    "Humidity3pm - Humidity (percent) at 3pm\n",
    "\n",
    "Pressure9am - Atmospheric pressure (hpa) reduced to mean sea level at 9am\n",
    "\n",
    "Pressure3pm - Atmospheric pressure (hpa) reduced to mean sea level at 3pm\n",
    "\n",
    "Cloud9am - Fraction of sky obscured by cloud at 9am. This is measured in \"oktas\", which are a unit of eigths. \n",
    "\n",
    "Cloud3pm - Fraction of sky obscured by cloud (in \"oktas\": eighths) at 3pm\n",
    "\n",
    "Temp9am - Temperature (degrees C) at 9am\n",
    "\n",
    "Temp3pm - Temperature (degrees C) at 3pm\n",
    "\n",
    "RainToday - Boolean: 1 if precipitation (mm) in the 24 hours to 9am exceeds 1mm, otherwise 0\n",
    "\n",
    "RainTomorrow - будет ли дождь завтра (целевая переменная)."
   ]
  },
  {
   "cell_type": "markdown",
   "metadata": {},
   "source": [
    "#### 1. [0.5 балла] Посмотрите на баланс классов целевой переменной, постройте лучшую константную модель и выведите долю правильных ответов (accuracy) этой модели:"
   ]
  },
  {
   "cell_type": "code",
   "execution_count": 5,
   "metadata": {},
   "outputs": [
    {
     "data": {
      "text/plain": [
       "No     110316\n",
       "Yes     31877\n",
       "Name: RainTomorrow, dtype: int64"
      ]
     },
     "execution_count": 5,
     "metadata": {},
     "output_type": "execute_result"
    }
   ],
   "source": [
    "df['RainTomorrow'].value_counts()"
   ]
  },
  {
   "cell_type": "code",
   "execution_count": 6,
   "metadata": {},
   "outputs": [],
   "source": [
    "# Лучшая константная модель будет, когда у нас df['RainTomorrow'] == No, посчитаем вероятность правильного ответа\n"
   ]
  },
  {
   "cell_type": "code",
   "execution_count": 7,
   "metadata": {},
   "outputs": [
    {
     "data": {
      "text/plain": [
       "0.7583940602227417"
      ]
     },
     "execution_count": 7,
     "metadata": {},
     "output_type": "execute_result"
    }
   ],
   "source": [
    "len(df[df['RainTomorrow'] == 'No'])/df['RainTomorrow'].size"
   ]
  },
  {
   "cell_type": "code",
   "execution_count": 8,
   "metadata": {},
   "outputs": [
    {
     "name": "stdout",
     "output_type": "stream",
     "text": [
      "<class 'pandas.core.frame.DataFrame'>\n",
      "RangeIndex: 145460 entries, 0 to 145459\n",
      "Data columns (total 23 columns):\n",
      " #   Column         Non-Null Count   Dtype  \n",
      "---  ------         --------------   -----  \n",
      " 0   Date           145460 non-null  object \n",
      " 1   Location       145460 non-null  object \n",
      " 2   MinTemp        143975 non-null  float64\n",
      " 3   MaxTemp        144199 non-null  float64\n",
      " 4   Rainfall       142199 non-null  float64\n",
      " 5   Evaporation    82670 non-null   float64\n",
      " 6   Sunshine       75625 non-null   float64\n",
      " 7   WindGustDir    135134 non-null  object \n",
      " 8   WindGustSpeed  135197 non-null  float64\n",
      " 9   WindDir9am     134894 non-null  object \n",
      " 10  WindDir3pm     141232 non-null  object \n",
      " 11  WindSpeed9am   143693 non-null  float64\n",
      " 12  WindSpeed3pm   142398 non-null  float64\n",
      " 13  Humidity9am    142806 non-null  float64\n",
      " 14  Humidity3pm    140953 non-null  float64\n",
      " 15  Pressure9am    130395 non-null  float64\n",
      " 16  Pressure3pm    130432 non-null  float64\n",
      " 17  Cloud9am       89572 non-null   float64\n",
      " 18  Cloud3pm       86102 non-null   float64\n",
      " 19  Temp9am        143693 non-null  float64\n",
      " 20  Temp3pm        141851 non-null  float64\n",
      " 21  RainToday      142199 non-null  object \n",
      " 22  RainTomorrow   142193 non-null  object \n",
      "dtypes: float64(16), object(7)\n",
      "memory usage: 25.5+ MB\n"
     ]
    }
   ],
   "source": [
    "# view summary of dataset\n",
    "\n",
    "df.info()"
   ]
  },
  {
   "cell_type": "markdown",
   "metadata": {},
   "source": [
    "Как мы видим, у нас в данных есть пропуски, и есть категориальные переменные, которые требуют предварительной подготовки для логистической регрессии."
   ]
  },
  {
   "cell_type": "markdown",
   "metadata": {},
   "source": [
    "#### 2. [1 балл] Разделите датасет на train и test в пропорции 80/20. Вспомните о важности перемешивания данных. Будем ли мы это делать сегодня? Почему?\n",
    "Ответ:"
   ]
  },
  {
   "cell_type": "code",
   "execution_count": 9,
   "metadata": {},
   "outputs": [],
   "source": [
    "X = df.drop(['RainTomorrow'], axis=1)\n",
    "\n",
    "y = df['RainTomorrow']"
   ]
  },
  {
   "cell_type": "code",
   "execution_count": 10,
   "metadata": {},
   "outputs": [],
   "source": [
    "from sklearn.model_selection import train_test_split\n",
    "X_train, X_test, y_train, y_test = train_test_split(\n",
    "    X, y, \n",
    "    test_size=0.2, \n",
    "    random_state=42\n",
    ")"
   ]
  },
  {
   "cell_type": "code",
   "execution_count": 11,
   "metadata": {},
   "outputs": [
    {
     "data": {
      "text/plain": [
       "100721    Yes\n",
       "30234      No\n",
       "68427     NaN\n",
       "28624      No\n",
       "31173      No\n",
       "         ... \n",
       "57136     Yes\n",
       "30386      No\n",
       "17904      No\n",
       "128313     No\n",
       "80574      No\n",
       "Name: RainTomorrow, Length: 29092, dtype: object"
      ]
     },
     "execution_count": 11,
     "metadata": {},
     "output_type": "execute_result"
    }
   ],
   "source": [
    "y_test"
   ]
  },
  {
   "cell_type": "markdown",
   "metadata": {},
   "source": [
    "### Да, надо перемешивать данные, потому что перемешивание данных влияет только на то, кто в итоге окажется в train и test. Если данные шли какими-то группами, например сначала 800 картинок с кошками, а за ними 200 картинок с собаками, а train_test_split был совершён в пропорции 0.8, то модель просто не увидит собак в трейне."
   ]
  },
  {
   "cell_type": "markdown",
   "metadata": {},
   "source": [
    "### Категориальные признаки"
   ]
  },
  {
   "cell_type": "code",
   "execution_count": 12,
   "metadata": {},
   "outputs": [
    {
     "name": "stdout",
     "output_type": "stream",
     "text": [
      "There are 6 categorical variables\n",
      "\n",
      "The categorical variables are : ['Date', 'Location', 'WindGustDir', 'WindDir9am', 'WindDir3pm', 'RainToday']\n"
     ]
    }
   ],
   "source": [
    "# find categorical variables\n",
    "\n",
    "categorical = [var for var in df.columns if df[var].dtype=='O']\n",
    "categorical.remove('RainTomorrow') # target\n",
    "\n",
    "print('There are {} categorical variables\\n'.format(len(categorical)))\n",
    "\n",
    "print('The categorical variables are :', categorical)"
   ]
  },
  {
   "cell_type": "markdown",
   "metadata": {},
   "source": [
    "Прежде, чем преобразовывать категориальные признаки, неплохо бы понять их природу. Например, принципиально важно, сколько уникальных значений принимает каждый из них, от этого зависит способ обработки.  "
   ]
  },
  {
   "cell_type": "markdown",
   "metadata": {},
   "source": [
    "#### 3. [0.5 балла]  Выведите число уникальных значений, которое принимает каждый категориальный признак."
   ]
  },
  {
   "cell_type": "code",
   "execution_count": 13,
   "metadata": {},
   "outputs": [
    {
     "name": "stdout",
     "output_type": "stream",
     "text": [
      "Date 3436\n",
      "Location 49\n",
      "WindGustDir 16\n",
      "WindDir9am 16\n",
      "WindDir3pm 16\n",
      "RainToday 2\n"
     ]
    }
   ],
   "source": [
    "for i in categorical:\n",
    "    print(i, df[i].nunique())"
   ]
  },
  {
   "cell_type": "markdown",
   "metadata": {},
   "source": [
    "#### 4. [1.5 балла]  Подготовьте категориальные признаки к дальнейшей работе: выберите для каждого из них способы кодирования и заполнения пропусков и реализуйте."
   ]
  },
  {
   "cell_type": "markdown",
   "metadata": {},
   "source": [
    "Подсказка: One Hot Encoding подойдет для большинства признаков, но не для всех.\n",
    "\n",
    "Подсказка: Помните, что методы, заполняющие пропуски, обучаются только на train, применяются на train и test."
   ]
  },
  {
   "cell_type": "markdown",
   "metadata": {},
   "source": [
    "#### Для признаков с количеством уникальных значений = 16 и для RainToday будем использовать OHE.\n",
    "#### Категорию Date переведем по умному и оставим только месяц переведенный в число\n",
    "#### Location будем преобразовывать с помощью LebelEncoder"
   ]
  },
  {
   "cell_type": "code",
   "execution_count": 14,
   "metadata": {},
   "outputs": [
    {
     "data": {
      "text/plain": [
       "Date             0.000000\n",
       "Location         0.000000\n",
       "MinTemp          0.000444\n",
       "MaxTemp          0.000377\n",
       "Rainfall         0.000975\n",
       "Evaporation      0.018768\n",
       "Sunshine         0.020874\n",
       "WindGustDir      0.003086\n",
       "WindGustSpeed    0.003068\n",
       "WindDir9am       0.003158\n",
       "WindDir3pm       0.001264\n",
       "WindSpeed9am     0.000528\n",
       "WindSpeed3pm     0.000915\n",
       "Humidity9am      0.000793\n",
       "Humidity3pm      0.001347\n",
       "Pressure9am      0.004503\n",
       "Pressure3pm      0.004492\n",
       "Cloud9am         0.016705\n",
       "Cloud3pm         0.017742\n",
       "Temp9am          0.000528\n",
       "Temp3pm          0.001079\n",
       "RainToday        0.000975\n",
       "RainTomorrow     0.000977\n",
       "dtype: float64"
      ]
     },
     "execution_count": 14,
     "metadata": {},
     "output_type": "execute_result"
    }
   ],
   "source": [
    "df.isnull().sum()/df.size #сколько всего пропусков"
   ]
  },
  {
   "cell_type": "code",
   "execution_count": 15,
   "metadata": {},
   "outputs": [
    {
     "data": {
      "text/plain": [
       "343248"
      ]
     },
     "execution_count": 15,
     "metadata": {},
     "output_type": "execute_result"
    }
   ],
   "source": [
    "df.isnull().sum().sum() # общее количество "
   ]
  },
  {
   "cell_type": "code",
   "execution_count": 16,
   "metadata": {},
   "outputs": [
    {
     "name": "stdout",
     "output_type": "stream",
     "text": [
      "<class 'pandas.core.frame.DataFrame'>\n",
      "RangeIndex: 145460 entries, 0 to 145459\n",
      "Data columns (total 23 columns):\n",
      " #   Column         Non-Null Count   Dtype  \n",
      "---  ------         --------------   -----  \n",
      " 0   Date           145460 non-null  object \n",
      " 1   Location       145460 non-null  object \n",
      " 2   MinTemp        143975 non-null  float64\n",
      " 3   MaxTemp        144199 non-null  float64\n",
      " 4   Rainfall       142199 non-null  float64\n",
      " 5   Evaporation    82670 non-null   float64\n",
      " 6   Sunshine       75625 non-null   float64\n",
      " 7   WindGustDir    135134 non-null  object \n",
      " 8   WindGustSpeed  135197 non-null  float64\n",
      " 9   WindDir9am     134894 non-null  object \n",
      " 10  WindDir3pm     141232 non-null  object \n",
      " 11  WindSpeed9am   143693 non-null  float64\n",
      " 12  WindSpeed3pm   142398 non-null  float64\n",
      " 13  Humidity9am    142806 non-null  float64\n",
      " 14  Humidity3pm    140953 non-null  float64\n",
      " 15  Pressure9am    130395 non-null  float64\n",
      " 16  Pressure3pm    130432 non-null  float64\n",
      " 17  Cloud9am       89572 non-null   float64\n",
      " 18  Cloud3pm       86102 non-null   float64\n",
      " 19  Temp9am        143693 non-null  float64\n",
      " 20  Temp3pm        141851 non-null  float64\n",
      " 21  RainToday      142199 non-null  object \n",
      " 22  RainTomorrow   142193 non-null  object \n",
      "dtypes: float64(16), object(7)\n",
      "memory usage: 25.5+ MB\n"
     ]
    }
   ],
   "source": [
    "df.info()"
   ]
  },
  {
   "cell_type": "markdown",
   "metadata": {},
   "source": [
    "#### Во всех переменных очень много пропусков. Sunshine, Evaporation пропущено более 10% значений, я не могу просто заполнить их средними или средними значениями. Я отбросил эти 2 столбца. "
   ]
  },
  {
   "cell_type": "markdown",
   "metadata": {},
   "source": [
    "#### Сразу с помощью LabelEncoding() заменил в результирующем столбце значения: 'No' как 0 и 'Yes' как 1 и посчитаем корреляцию"
   ]
  },
  {
   "cell_type": "code",
   "execution_count": 17,
   "metadata": {},
   "outputs": [],
   "source": [
    "from sklearn.preprocessing import LabelEncoder\n",
    "le = LabelEncoder()\n",
    "mode = (df['RainTomorrow']).mode().iloc[0]\n",
    "df['RainTomorrow'].fillna(mode,inplace=True)\n",
    "df['RainTomorrow'] = pd.DataFrame(le.fit_transform(df['RainTomorrow']))"
   ]
  },
  {
   "cell_type": "code",
   "execution_count": 18,
   "metadata": {},
   "outputs": [
    {
     "data": {
      "image/png": "[encoded data removed]",
      "text/plain": [
       "<Figure size 640x480 with 2 Axes>"
      ]
     },
     "metadata": {},
     "output_type": "display_data"
    }
   ],
   "source": [
    "sns.heatmap(df[['Sunshine','Evaporation','RainTomorrow']].corr()); # видно, что близкой корреляции нет ни у одного столбца с RainTommorow"
   ]
  },
  {
   "cell_type": "code",
   "execution_count": 19,
   "metadata": {},
   "outputs": [],
   "source": [
    "ind_missing = ['Evaporation','Sunshine']\n",
    "df = df.drop(ind_missing, axis=1)\n",
    "numerical = [var for var in df.columns if df[var].dtype!='O']"
   ]
  },
  {
   "cell_type": "markdown",
   "metadata": {},
   "source": [
    "#### Поэтому мы выбросим эти признаки из нашего датасета (учитывая, что они не сильно коррелируют с таргетом, у них много пробелов в данных и некоторые из них коррелируют сами с собой, что тоже плохо для наших итоговых результатов)"
   ]
  },
  {
   "cell_type": "code",
   "execution_count": 20,
   "metadata": {},
   "outputs": [
    {
     "data": {
      "text/html": [
       "<div>\n",
       "<style scoped>\n",
       "    .dataframe tbody tr th:only-of-type {\n",
       "        vertical-align: middle;\n",
       "    }\n",
       "\n",
       "    .dataframe tbody tr th {\n",
       "        vertical-align: top;\n",
       "    }\n",
       "\n",
       "    .dataframe thead th {\n",
       "        text-align: right;\n",
       "    }\n",
       "</style>\n",
       "<table border=\"1\" class=\"dataframe\">\n",
       "  <thead>\n",
       "    <tr style=\"text-align: right;\">\n",
       "      <th></th>\n",
       "      <th>Date</th>\n",
       "      <th>Location</th>\n",
       "      <th>MinTemp</th>\n",
       "      <th>MaxTemp</th>\n",
       "      <th>Rainfall</th>\n",
       "      <th>WindGustDir</th>\n",
       "      <th>WindGustSpeed</th>\n",
       "      <th>WindDir9am</th>\n",
       "      <th>WindDir3pm</th>\n",
       "      <th>WindSpeed9am</th>\n",
       "      <th>...</th>\n",
       "      <th>Humidity9am</th>\n",
       "      <th>Humidity3pm</th>\n",
       "      <th>Pressure9am</th>\n",
       "      <th>Pressure3pm</th>\n",
       "      <th>Cloud9am</th>\n",
       "      <th>Cloud3pm</th>\n",
       "      <th>Temp9am</th>\n",
       "      <th>Temp3pm</th>\n",
       "      <th>RainToday</th>\n",
       "      <th>RainTomorrow</th>\n",
       "    </tr>\n",
       "  </thead>\n",
       "  <tbody>\n",
       "    <tr>\n",
       "      <th>0</th>\n",
       "      <td>2008-12-01</td>\n",
       "      <td>Albury</td>\n",
       "      <td>13.4</td>\n",
       "      <td>22.9</td>\n",
       "      <td>0.6</td>\n",
       "      <td>W</td>\n",
       "      <td>44.0</td>\n",
       "      <td>W</td>\n",
       "      <td>WNW</td>\n",
       "      <td>20.0</td>\n",
       "      <td>...</td>\n",
       "      <td>71.0</td>\n",
       "      <td>22.0</td>\n",
       "      <td>1007.7</td>\n",
       "      <td>1007.1</td>\n",
       "      <td>8.0</td>\n",
       "      <td>NaN</td>\n",
       "      <td>16.9</td>\n",
       "      <td>21.8</td>\n",
       "      <td>No</td>\n",
       "      <td>0</td>\n",
       "    </tr>\n",
       "    <tr>\n",
       "      <th>1</th>\n",
       "      <td>2008-12-02</td>\n",
       "      <td>Albury</td>\n",
       "      <td>7.4</td>\n",
       "      <td>25.1</td>\n",
       "      <td>0.0</td>\n",
       "      <td>WNW</td>\n",
       "      <td>44.0</td>\n",
       "      <td>NNW</td>\n",
       "      <td>WSW</td>\n",
       "      <td>4.0</td>\n",
       "      <td>...</td>\n",
       "      <td>44.0</td>\n",
       "      <td>25.0</td>\n",
       "      <td>1010.6</td>\n",
       "      <td>1007.8</td>\n",
       "      <td>NaN</td>\n",
       "      <td>NaN</td>\n",
       "      <td>17.2</td>\n",
       "      <td>24.3</td>\n",
       "      <td>No</td>\n",
       "      <td>0</td>\n",
       "    </tr>\n",
       "    <tr>\n",
       "      <th>2</th>\n",
       "      <td>2008-12-03</td>\n",
       "      <td>Albury</td>\n",
       "      <td>12.9</td>\n",
       "      <td>25.7</td>\n",
       "      <td>0.0</td>\n",
       "      <td>WSW</td>\n",
       "      <td>46.0</td>\n",
       "      <td>W</td>\n",
       "      <td>WSW</td>\n",
       "      <td>19.0</td>\n",
       "      <td>...</td>\n",
       "      <td>38.0</td>\n",
       "      <td>30.0</td>\n",
       "      <td>1007.6</td>\n",
       "      <td>1008.7</td>\n",
       "      <td>NaN</td>\n",
       "      <td>2.0</td>\n",
       "      <td>21.0</td>\n",
       "      <td>23.2</td>\n",
       "      <td>No</td>\n",
       "      <td>0</td>\n",
       "    </tr>\n",
       "    <tr>\n",
       "      <th>3</th>\n",
       "      <td>2008-12-04</td>\n",
       "      <td>Albury</td>\n",
       "      <td>9.2</td>\n",
       "      <td>28.0</td>\n",
       "      <td>0.0</td>\n",
       "      <td>NE</td>\n",
       "      <td>24.0</td>\n",
       "      <td>SE</td>\n",
       "      <td>E</td>\n",
       "      <td>11.0</td>\n",
       "      <td>...</td>\n",
       "      <td>45.0</td>\n",
       "      <td>16.0</td>\n",
       "      <td>1017.6</td>\n",
       "      <td>1012.8</td>\n",
       "      <td>NaN</td>\n",
       "      <td>NaN</td>\n",
       "      <td>18.1</td>\n",
       "      <td>26.5</td>\n",
       "      <td>No</td>\n",
       "      <td>0</td>\n",
       "    </tr>\n",
       "    <tr>\n",
       "      <th>4</th>\n",
       "      <td>2008-12-05</td>\n",
       "      <td>Albury</td>\n",
       "      <td>17.5</td>\n",
       "      <td>32.3</td>\n",
       "      <td>1.0</td>\n",
       "      <td>W</td>\n",
       "      <td>41.0</td>\n",
       "      <td>ENE</td>\n",
       "      <td>NW</td>\n",
       "      <td>7.0</td>\n",
       "      <td>...</td>\n",
       "      <td>82.0</td>\n",
       "      <td>33.0</td>\n",
       "      <td>1010.8</td>\n",
       "      <td>1006.0</td>\n",
       "      <td>7.0</td>\n",
       "      <td>8.0</td>\n",
       "      <td>17.8</td>\n",
       "      <td>29.7</td>\n",
       "      <td>No</td>\n",
       "      <td>0</td>\n",
       "    </tr>\n",
       "  </tbody>\n",
       "</table>\n",
       "<p>5 rows × 21 columns</p>\n",
       "</div>"
      ],
      "text/plain": [
       "         Date Location  MinTemp  MaxTemp  Rainfall WindGustDir  WindGustSpeed  \\\n",
       "0  2008-12-01   Albury     13.4     22.9       0.6           W           44.0   \n",
       "1  2008-12-02   Albury      7.4     25.1       0.0         WNW           44.0   \n",
       "2  2008-12-03   Albury     12.9     25.7       0.0         WSW           46.0   \n",
       "3  2008-12-04   Albury      9.2     28.0       0.0          NE           24.0   \n",
       "4  2008-12-05   Albury     17.5     32.3       1.0           W           41.0   \n",
       "\n",
       "  WindDir9am WindDir3pm  WindSpeed9am  ...  Humidity9am  Humidity3pm  \\\n",
       "0          W        WNW          20.0  ...         71.0         22.0   \n",
       "1        NNW        WSW           4.0  ...         44.0         25.0   \n",
       "2          W        WSW          19.0  ...         38.0         30.0   \n",
       "3         SE          E          11.0  ...         45.0         16.0   \n",
       "4        ENE         NW           7.0  ...         82.0         33.0   \n",
       "\n",
       "   Pressure9am  Pressure3pm  Cloud9am  Cloud3pm  Temp9am  Temp3pm  RainToday  \\\n",
       "0       1007.7       1007.1       8.0       NaN     16.9     21.8         No   \n",
       "1       1010.6       1007.8       NaN       NaN     17.2     24.3         No   \n",
       "2       1007.6       1008.7       NaN       2.0     21.0     23.2         No   \n",
       "3       1017.6       1012.8       NaN       NaN     18.1     26.5         No   \n",
       "4       1010.8       1006.0       7.0       8.0     17.8     29.7         No   \n",
       "\n",
       "  RainTomorrow  \n",
       "0            0  \n",
       "1            0  \n",
       "2            0  \n",
       "3            0  \n",
       "4            0  \n",
       "\n",
       "[5 rows x 21 columns]"
      ]
     },
     "execution_count": 20,
     "metadata": {},
     "output_type": "execute_result"
    }
   ],
   "source": [
    "df.head()"
   ]
  },
  {
   "cell_type": "code",
   "execution_count": 21,
   "metadata": {},
   "outputs": [
    {
     "data": {
      "text/plain": [
       "207356"
      ]
     },
     "execution_count": 21,
     "metadata": {},
     "output_type": "execute_result"
    }
   ],
   "source": [
    "df.isnull().sum().sum() #количество пропущенных резко уменьшилось "
   ]
  },
  {
   "cell_type": "code",
   "execution_count": 22,
   "metadata": {},
   "outputs": [],
   "source": [
    "from sklearn.preprocessing import  LabelEncoder\n",
    "df['Date'] = pd.to_datetime(df['Date']).dt.month #пропусков нет в Date\n",
    "# изменим Date и перевед дату в конкретное число месяца, потому что результат напрямую зависит от месяца\n",
    "le = LabelEncoder()\n",
    "mode = (df['RainToday']).mode().iloc[0]\n",
    "df['RainToday'].fillna(mode,inplace=True)\n",
    "df['Location'] = pd.DataFrame(le.fit_transform(df['Location'])) #Пропусков в Location нет \n"
   ]
  },
  {
   "cell_type": "code",
   "execution_count": 24,
   "metadata": {},
   "outputs": [],
   "source": [
    "# заполним все пропуски модой в некоторых признаках\n",
    "for i in ['WindGustDir','WindDir9am','WindDir3pm', 'MinTemp','MaxTemp','Rainfall','WindGustSpeed','WindSpeed9am','WindSpeed3pm','Humidity9am','Humidity3pm','Pressure9am','Pressure3pm','Temp9am','Temp3pm','Cloud9am','Cloud3pm']:\n",
    "    mode = (df[i]).mode().iloc[0]\n",
    "    df[i].fillna(mode,inplace=True)\n"
   ]
  },
  {
   "cell_type": "code",
   "execution_count": 25,
   "metadata": {},
   "outputs": [
    {
     "data": {
      "text/plain": [
       "Date             0\n",
       "Location         0\n",
       "MinTemp          0\n",
       "MaxTemp          0\n",
       "Rainfall         0\n",
       "WindGustDir      0\n",
       "WindGustSpeed    0\n",
       "WindDir9am       0\n",
       "WindDir3pm       0\n",
       "WindSpeed9am     0\n",
       "WindSpeed3pm     0\n",
       "Humidity9am      0\n",
       "Humidity3pm      0\n",
       "Pressure9am      0\n",
       "Pressure3pm      0\n",
       "Cloud9am         0\n",
       "Cloud3pm         0\n",
       "Temp9am          0\n",
       "Temp3pm          0\n",
       "RainToday        0\n",
       "RainTomorrow     0\n",
       "dtype: int64"
      ]
     },
     "execution_count": 25,
     "metadata": {},
     "output_type": "execute_result"
    }
   ],
   "source": [
    "df.isnull().sum()#все пропуски ушли"
   ]
  },
  {
   "cell_type": "code",
   "execution_count": 26,
   "metadata": {},
   "outputs": [],
   "source": [
    "df = pd.get_dummies(df, columns=['WindGustDir'])\n",
    "df = pd.get_dummies(df, columns=['WindDir9am'])\n",
    "df = pd.get_dummies(df, columns=['WindDir3pm'])\n",
    "df = pd.get_dummies(df, columns=['RainToday'])\n",
    "new_order = [col for col in df.columns if col != 'RainTomorrow'] + ['RainTomorrow']\n",
    "df = df.reindex(columns=new_order)"
   ]
  },
  {
   "cell_type": "code",
   "execution_count": 27,
   "metadata": {},
   "outputs": [
    {
     "data": {
      "text/html": [
       "<div>\n",
       "<style scoped>\n",
       "    .dataframe tbody tr th:only-of-type {\n",
       "        vertical-align: middle;\n",
       "    }\n",
       "\n",
       "    .dataframe tbody tr th {\n",
       "        vertical-align: top;\n",
       "    }\n",
       "\n",
       "    .dataframe thead th {\n",
       "        text-align: right;\n",
       "    }\n",
       "</style>\n",
       "<table border=\"1\" class=\"dataframe\">\n",
       "  <thead>\n",
       "    <tr style=\"text-align: right;\">\n",
       "      <th></th>\n",
       "      <th>Date</th>\n",
       "      <th>Location</th>\n",
       "      <th>MinTemp</th>\n",
       "      <th>MaxTemp</th>\n",
       "      <th>Rainfall</th>\n",
       "      <th>WindGustSpeed</th>\n",
       "      <th>WindSpeed9am</th>\n",
       "      <th>WindSpeed3pm</th>\n",
       "      <th>Humidity9am</th>\n",
       "      <th>Humidity3pm</th>\n",
       "      <th>...</th>\n",
       "      <th>WindDir3pm_SE</th>\n",
       "      <th>WindDir3pm_SSE</th>\n",
       "      <th>WindDir3pm_SSW</th>\n",
       "      <th>WindDir3pm_SW</th>\n",
       "      <th>WindDir3pm_W</th>\n",
       "      <th>WindDir3pm_WNW</th>\n",
       "      <th>WindDir3pm_WSW</th>\n",
       "      <th>RainToday_No</th>\n",
       "      <th>RainToday_Yes</th>\n",
       "      <th>RainTomorrow</th>\n",
       "    </tr>\n",
       "  </thead>\n",
       "  <tbody>\n",
       "    <tr>\n",
       "      <th>0</th>\n",
       "      <td>12</td>\n",
       "      <td>2</td>\n",
       "      <td>13.4</td>\n",
       "      <td>22.9</td>\n",
       "      <td>0.6</td>\n",
       "      <td>44.0</td>\n",
       "      <td>20.0</td>\n",
       "      <td>24.0</td>\n",
       "      <td>71.0</td>\n",
       "      <td>22.0</td>\n",
       "      <td>...</td>\n",
       "      <td>0</td>\n",
       "      <td>0</td>\n",
       "      <td>0</td>\n",
       "      <td>0</td>\n",
       "      <td>0</td>\n",
       "      <td>1</td>\n",
       "      <td>0</td>\n",
       "      <td>1</td>\n",
       "      <td>0</td>\n",
       "      <td>0</td>\n",
       "    </tr>\n",
       "    <tr>\n",
       "      <th>1</th>\n",
       "      <td>12</td>\n",
       "      <td>2</td>\n",
       "      <td>7.4</td>\n",
       "      <td>25.1</td>\n",
       "      <td>0.0</td>\n",
       "      <td>44.0</td>\n",
       "      <td>4.0</td>\n",
       "      <td>22.0</td>\n",
       "      <td>44.0</td>\n",
       "      <td>25.0</td>\n",
       "      <td>...</td>\n",
       "      <td>0</td>\n",
       "      <td>0</td>\n",
       "      <td>0</td>\n",
       "      <td>0</td>\n",
       "      <td>0</td>\n",
       "      <td>0</td>\n",
       "      <td>1</td>\n",
       "      <td>1</td>\n",
       "      <td>0</td>\n",
       "      <td>0</td>\n",
       "    </tr>\n",
       "    <tr>\n",
       "      <th>2</th>\n",
       "      <td>12</td>\n",
       "      <td>2</td>\n",
       "      <td>12.9</td>\n",
       "      <td>25.7</td>\n",
       "      <td>0.0</td>\n",
       "      <td>46.0</td>\n",
       "      <td>19.0</td>\n",
       "      <td>26.0</td>\n",
       "      <td>38.0</td>\n",
       "      <td>30.0</td>\n",
       "      <td>...</td>\n",
       "      <td>0</td>\n",
       "      <td>0</td>\n",
       "      <td>0</td>\n",
       "      <td>0</td>\n",
       "      <td>0</td>\n",
       "      <td>0</td>\n",
       "      <td>1</td>\n",
       "      <td>1</td>\n",
       "      <td>0</td>\n",
       "      <td>0</td>\n",
       "    </tr>\n",
       "    <tr>\n",
       "      <th>3</th>\n",
       "      <td>12</td>\n",
       "      <td>2</td>\n",
       "      <td>9.2</td>\n",
       "      <td>28.0</td>\n",
       "      <td>0.0</td>\n",
       "      <td>24.0</td>\n",
       "      <td>11.0</td>\n",
       "      <td>9.0</td>\n",
       "      <td>45.0</td>\n",
       "      <td>16.0</td>\n",
       "      <td>...</td>\n",
       "      <td>0</td>\n",
       "      <td>0</td>\n",
       "      <td>0</td>\n",
       "      <td>0</td>\n",
       "      <td>0</td>\n",
       "      <td>0</td>\n",
       "      <td>0</td>\n",
       "      <td>1</td>\n",
       "      <td>0</td>\n",
       "      <td>0</td>\n",
       "    </tr>\n",
       "    <tr>\n",
       "      <th>4</th>\n",
       "      <td>12</td>\n",
       "      <td>2</td>\n",
       "      <td>17.5</td>\n",
       "      <td>32.3</td>\n",
       "      <td>1.0</td>\n",
       "      <td>41.0</td>\n",
       "      <td>7.0</td>\n",
       "      <td>20.0</td>\n",
       "      <td>82.0</td>\n",
       "      <td>33.0</td>\n",
       "      <td>...</td>\n",
       "      <td>0</td>\n",
       "      <td>0</td>\n",
       "      <td>0</td>\n",
       "      <td>0</td>\n",
       "      <td>0</td>\n",
       "      <td>0</td>\n",
       "      <td>0</td>\n",
       "      <td>1</td>\n",
       "      <td>0</td>\n",
       "      <td>0</td>\n",
       "    </tr>\n",
       "  </tbody>\n",
       "</table>\n",
       "<p>5 rows × 67 columns</p>\n",
       "</div>"
      ],
      "text/plain": [
       "   Date  Location  MinTemp  MaxTemp  Rainfall  WindGustSpeed  WindSpeed9am  \\\n",
       "0    12         2     13.4     22.9       0.6           44.0          20.0   \n",
       "1    12         2      7.4     25.1       0.0           44.0           4.0   \n",
       "2    12         2     12.9     25.7       0.0           46.0          19.0   \n",
       "3    12         2      9.2     28.0       0.0           24.0          11.0   \n",
       "4    12         2     17.5     32.3       1.0           41.0           7.0   \n",
       "\n",
       "   WindSpeed3pm  Humidity9am  Humidity3pm  ...  WindDir3pm_SE  WindDir3pm_SSE  \\\n",
       "0          24.0         71.0         22.0  ...              0               0   \n",
       "1          22.0         44.0         25.0  ...              0               0   \n",
       "2          26.0         38.0         30.0  ...              0               0   \n",
       "3           9.0         45.0         16.0  ...              0               0   \n",
       "4          20.0         82.0         33.0  ...              0               0   \n",
       "\n",
       "   WindDir3pm_SSW  WindDir3pm_SW  WindDir3pm_W  WindDir3pm_WNW  \\\n",
       "0               0              0             0               1   \n",
       "1               0              0             0               0   \n",
       "2               0              0             0               0   \n",
       "3               0              0             0               0   \n",
       "4               0              0             0               0   \n",
       "\n",
       "   WindDir3pm_WSW  RainToday_No  RainToday_Yes  RainTomorrow  \n",
       "0               0             1              0             0  \n",
       "1               1             1              0             0  \n",
       "2               1             1              0             0  \n",
       "3               0             1              0             0  \n",
       "4               0             1              0             0  \n",
       "\n",
       "[5 rows x 67 columns]"
      ]
     },
     "execution_count": 27,
     "metadata": {},
     "output_type": "execute_result"
    }
   ],
   "source": [
    "df.head()"
   ]
  },
  {
   "cell_type": "code",
   "execution_count": 28,
   "metadata": {},
   "outputs": [
    {
     "name": "stdout",
     "output_type": "stream",
     "text": [
      "<class 'pandas.core.frame.DataFrame'>\n",
      "RangeIndex: 145460 entries, 0 to 145459\n",
      "Data columns (total 67 columns):\n",
      " #   Column           Non-Null Count   Dtype  \n",
      "---  ------           --------------   -----  \n",
      " 0   Date             145460 non-null  int64  \n",
      " 1   Location         145460 non-null  int32  \n",
      " 2   MinTemp          145460 non-null  float64\n",
      " 3   MaxTemp          145460 non-null  float64\n",
      " 4   Rainfall         145460 non-null  float64\n",
      " 5   WindGustSpeed    145460 non-null  float64\n",
      " 6   WindSpeed9am     145460 non-null  float64\n",
      " 7   WindSpeed3pm     145460 non-null  float64\n",
      " 8   Humidity9am      145460 non-null  float64\n",
      " 9   Humidity3pm      145460 non-null  float64\n",
      " 10  Pressure9am      145460 non-null  float64\n",
      " 11  Pressure3pm      145460 non-null  float64\n",
      " 12  Cloud9am         145460 non-null  float64\n",
      " 13  Cloud3pm         145460 non-null  float64\n",
      " 14  Temp9am          145460 non-null  float64\n",
      " 15  Temp3pm          145460 non-null  float64\n",
      " 16  WindGustDir_E    145460 non-null  uint8  \n",
      " 17  WindGustDir_ENE  145460 non-null  uint8  \n",
      " 18  WindGustDir_ESE  145460 non-null  uint8  \n",
      " 19  WindGustDir_N    145460 non-null  uint8  \n",
      " 20  WindGustDir_NE   145460 non-null  uint8  \n",
      " 21  WindGustDir_NNE  145460 non-null  uint8  \n",
      " 22  WindGustDir_NNW  145460 non-null  uint8  \n",
      " 23  WindGustDir_NW   145460 non-null  uint8  \n",
      " 24  WindGustDir_S    145460 non-null  uint8  \n",
      " 25  WindGustDir_SE   145460 non-null  uint8  \n",
      " 26  WindGustDir_SSE  145460 non-null  uint8  \n",
      " 27  WindGustDir_SSW  145460 non-null  uint8  \n",
      " 28  WindGustDir_SW   145460 non-null  uint8  \n",
      " 29  WindGustDir_W    145460 non-null  uint8  \n",
      " 30  WindGustDir_WNW  145460 non-null  uint8  \n",
      " 31  WindGustDir_WSW  145460 non-null  uint8  \n",
      " 32  WindDir9am_E     145460 non-null  uint8  \n",
      " 33  WindDir9am_ENE   145460 non-null  uint8  \n",
      " 34  WindDir9am_ESE   145460 non-null  uint8  \n",
      " 35  WindDir9am_N     145460 non-null  uint8  \n",
      " 36  WindDir9am_NE    145460 non-null  uint8  \n",
      " 37  WindDir9am_NNE   145460 non-null  uint8  \n",
      " 38  WindDir9am_NNW   145460 non-null  uint8  \n",
      " 39  WindDir9am_NW    145460 non-null  uint8  \n",
      " 40  WindDir9am_S     145460 non-null  uint8  \n",
      " 41  WindDir9am_SE    145460 non-null  uint8  \n",
      " 42  WindDir9am_SSE   145460 non-null  uint8  \n",
      " 43  WindDir9am_SSW   145460 non-null  uint8  \n",
      " 44  WindDir9am_SW    145460 non-null  uint8  \n",
      " 45  WindDir9am_W     145460 non-null  uint8  \n",
      " 46  WindDir9am_WNW   145460 non-null  uint8  \n",
      " 47  WindDir9am_WSW   145460 non-null  uint8  \n",
      " 48  WindDir3pm_E     145460 non-null  uint8  \n",
      " 49  WindDir3pm_ENE   145460 non-null  uint8  \n",
      " 50  WindDir3pm_ESE   145460 non-null  uint8  \n",
      " 51  WindDir3pm_N     145460 non-null  uint8  \n",
      " 52  WindDir3pm_NE    145460 non-null  uint8  \n",
      " 53  WindDir3pm_NNE   145460 non-null  uint8  \n",
      " 54  WindDir3pm_NNW   145460 non-null  uint8  \n",
      " 55  WindDir3pm_NW    145460 non-null  uint8  \n",
      " 56  WindDir3pm_S     145460 non-null  uint8  \n",
      " 57  WindDir3pm_SE    145460 non-null  uint8  \n",
      " 58  WindDir3pm_SSE   145460 non-null  uint8  \n",
      " 59  WindDir3pm_SSW   145460 non-null  uint8  \n",
      " 60  WindDir3pm_SW    145460 non-null  uint8  \n",
      " 61  WindDir3pm_W     145460 non-null  uint8  \n",
      " 62  WindDir3pm_WNW   145460 non-null  uint8  \n",
      " 63  WindDir3pm_WSW   145460 non-null  uint8  \n",
      " 64  RainToday_No     145460 non-null  uint8  \n",
      " 65  RainToday_Yes    145460 non-null  uint8  \n",
      " 66  RainTomorrow     145460 non-null  int32  \n",
      "dtypes: float64(14), int32(2), int64(1), uint8(50)\n",
      "memory usage: 24.7 MB\n"
     ]
    }
   ],
   "source": [
    "df.info()"
   ]
  },
  {
   "cell_type": "markdown",
   "metadata": {},
   "source": [
    "### Числовые признаки"
   ]
  },
  {
   "cell_type": "code",
   "execution_count": 30,
   "metadata": {},
   "outputs": [
    {
     "name": "stdout",
     "output_type": "stream",
     "text": [
      "There are 15 numerical variables\n",
      "\n",
      "The numerical variables are : ['MinTemp', 'MaxTemp', 'Rainfall', 'WindGustSpeed', 'WindSpeed9am', 'WindSpeed3pm', 'Humidity9am', 'Humidity3pm', 'Pressure9am', 'Pressure3pm', 'Cloud9am', 'Cloud3pm', 'Temp9am', 'Temp3pm', 'RainTomorrow']\n"
     ]
    }
   ],
   "source": [
    "# find numerical variables\n",
    "\n",
    "print('There are {} numerical variables\\n'.format(len(numerical)))\n",
    "\n",
    "print('The numerical variables are :', numerical)"
   ]
  },
  {
   "cell_type": "code",
   "execution_count": 31,
   "metadata": {},
   "outputs": [
    {
     "data": {
      "text/html": [
       "<div>\n",
       "<style scoped>\n",
       "    .dataframe tbody tr th:only-of-type {\n",
       "        vertical-align: middle;\n",
       "    }\n",
       "\n",
       "    .dataframe tbody tr th {\n",
       "        vertical-align: top;\n",
       "    }\n",
       "\n",
       "    .dataframe thead th {\n",
       "        text-align: right;\n",
       "    }\n",
       "</style>\n",
       "<table border=\"1\" class=\"dataframe\">\n",
       "  <thead>\n",
       "    <tr style=\"text-align: right;\">\n",
       "      <th></th>\n",
       "      <th>MinTemp</th>\n",
       "      <th>MaxTemp</th>\n",
       "      <th>Rainfall</th>\n",
       "      <th>WindGustSpeed</th>\n",
       "      <th>WindSpeed9am</th>\n",
       "      <th>WindSpeed3pm</th>\n",
       "      <th>Humidity9am</th>\n",
       "      <th>Humidity3pm</th>\n",
       "      <th>Pressure9am</th>\n",
       "      <th>Pressure3pm</th>\n",
       "      <th>Cloud9am</th>\n",
       "      <th>Cloud3pm</th>\n",
       "      <th>Temp9am</th>\n",
       "      <th>Temp3pm</th>\n",
       "      <th>RainTomorrow</th>\n",
       "    </tr>\n",
       "  </thead>\n",
       "  <tbody>\n",
       "    <tr>\n",
       "      <th>0</th>\n",
       "      <td>13.4</td>\n",
       "      <td>22.9</td>\n",
       "      <td>0.6</td>\n",
       "      <td>44.0</td>\n",
       "      <td>20.0</td>\n",
       "      <td>24.0</td>\n",
       "      <td>71.0</td>\n",
       "      <td>22.0</td>\n",
       "      <td>1007.7</td>\n",
       "      <td>1007.1</td>\n",
       "      <td>8.0</td>\n",
       "      <td>7.0</td>\n",
       "      <td>16.9</td>\n",
       "      <td>21.8</td>\n",
       "      <td>0</td>\n",
       "    </tr>\n",
       "    <tr>\n",
       "      <th>1</th>\n",
       "      <td>7.4</td>\n",
       "      <td>25.1</td>\n",
       "      <td>0.0</td>\n",
       "      <td>44.0</td>\n",
       "      <td>4.0</td>\n",
       "      <td>22.0</td>\n",
       "      <td>44.0</td>\n",
       "      <td>25.0</td>\n",
       "      <td>1010.6</td>\n",
       "      <td>1007.8</td>\n",
       "      <td>7.0</td>\n",
       "      <td>7.0</td>\n",
       "      <td>17.2</td>\n",
       "      <td>24.3</td>\n",
       "      <td>0</td>\n",
       "    </tr>\n",
       "    <tr>\n",
       "      <th>2</th>\n",
       "      <td>12.9</td>\n",
       "      <td>25.7</td>\n",
       "      <td>0.0</td>\n",
       "      <td>46.0</td>\n",
       "      <td>19.0</td>\n",
       "      <td>26.0</td>\n",
       "      <td>38.0</td>\n",
       "      <td>30.0</td>\n",
       "      <td>1007.6</td>\n",
       "      <td>1008.7</td>\n",
       "      <td>7.0</td>\n",
       "      <td>2.0</td>\n",
       "      <td>21.0</td>\n",
       "      <td>23.2</td>\n",
       "      <td>0</td>\n",
       "    </tr>\n",
       "    <tr>\n",
       "      <th>3</th>\n",
       "      <td>9.2</td>\n",
       "      <td>28.0</td>\n",
       "      <td>0.0</td>\n",
       "      <td>24.0</td>\n",
       "      <td>11.0</td>\n",
       "      <td>9.0</td>\n",
       "      <td>45.0</td>\n",
       "      <td>16.0</td>\n",
       "      <td>1017.6</td>\n",
       "      <td>1012.8</td>\n",
       "      <td>7.0</td>\n",
       "      <td>7.0</td>\n",
       "      <td>18.1</td>\n",
       "      <td>26.5</td>\n",
       "      <td>0</td>\n",
       "    </tr>\n",
       "    <tr>\n",
       "      <th>4</th>\n",
       "      <td>17.5</td>\n",
       "      <td>32.3</td>\n",
       "      <td>1.0</td>\n",
       "      <td>41.0</td>\n",
       "      <td>7.0</td>\n",
       "      <td>20.0</td>\n",
       "      <td>82.0</td>\n",
       "      <td>33.0</td>\n",
       "      <td>1010.8</td>\n",
       "      <td>1006.0</td>\n",
       "      <td>7.0</td>\n",
       "      <td>8.0</td>\n",
       "      <td>17.8</td>\n",
       "      <td>29.7</td>\n",
       "      <td>0</td>\n",
       "    </tr>\n",
       "  </tbody>\n",
       "</table>\n",
       "</div>"
      ],
      "text/plain": [
       "   MinTemp  MaxTemp  Rainfall  WindGustSpeed  WindSpeed9am  WindSpeed3pm  \\\n",
       "0     13.4     22.9       0.6           44.0          20.0          24.0   \n",
       "1      7.4     25.1       0.0           44.0           4.0          22.0   \n",
       "2     12.9     25.7       0.0           46.0          19.0          26.0   \n",
       "3      9.2     28.0       0.0           24.0          11.0           9.0   \n",
       "4     17.5     32.3       1.0           41.0           7.0          20.0   \n",
       "\n",
       "   Humidity9am  Humidity3pm  Pressure9am  Pressure3pm  Cloud9am  Cloud3pm  \\\n",
       "0         71.0         22.0       1007.7       1007.1       8.0       7.0   \n",
       "1         44.0         25.0       1010.6       1007.8       7.0       7.0   \n",
       "2         38.0         30.0       1007.6       1008.7       7.0       2.0   \n",
       "3         45.0         16.0       1017.6       1012.8       7.0       7.0   \n",
       "4         82.0         33.0       1010.8       1006.0       7.0       8.0   \n",
       "\n",
       "   Temp9am  Temp3pm  RainTomorrow  \n",
       "0     16.9     21.8             0  \n",
       "1     17.2     24.3             0  \n",
       "2     21.0     23.2             0  \n",
       "3     18.1     26.5             0  \n",
       "4     17.8     29.7             0  "
      ]
     },
     "execution_count": 31,
     "metadata": {},
     "output_type": "execute_result"
    }
   ],
   "source": [
    "# view the numerical variables\n",
    "\n",
    "df[numerical].head()"
   ]
  },
  {
   "cell_type": "code",
   "execution_count": 32,
   "metadata": {},
   "outputs": [
    {
     "name": "stdout",
     "output_type": "stream",
     "text": [
      "        MinTemp   MaxTemp  Rainfall  WindGustSpeed  WindSpeed9am  \\\n",
      "count  145460.0  145460.0  145460.0       145460.0      145460.0   \n",
      "mean       12.0      23.0       2.0           40.0          14.0   \n",
      "std         6.0       7.0       8.0           13.0           9.0   \n",
      "min        -8.0      -5.0       0.0            6.0           0.0   \n",
      "25%         8.0      18.0       0.0           31.0           7.0   \n",
      "50%        12.0      22.0       0.0           37.0          13.0   \n",
      "75%        17.0      28.0       1.0           46.0          19.0   \n",
      "max        34.0      48.0     371.0          135.0         130.0   \n",
      "\n",
      "       WindSpeed3pm  Humidity9am  Humidity3pm  Pressure9am  Pressure3pm  \\\n",
      "count      145460.0     145460.0     145460.0     145460.0     145460.0   \n",
      "mean           19.0         69.0         52.0       1018.0       1015.0   \n",
      "std             9.0         19.0         20.0          7.0          7.0   \n",
      "min             0.0          0.0          0.0        980.0        977.0   \n",
      "25%            13.0         57.0         37.0       1014.0       1011.0   \n",
      "50%            17.0         70.0         52.0       1017.0       1015.0   \n",
      "75%            24.0         84.0         65.0       1022.0       1019.0   \n",
      "max            87.0        100.0        100.0       1041.0       1040.0   \n",
      "\n",
      "       Cloud9am  Cloud3pm   Temp9am   Temp3pm  RainTomorrow  \n",
      "count  145460.0  145460.0  145460.0  145460.0      145460.0  \n",
      "mean        5.0       6.0      17.0      22.0           0.0  \n",
      "std         3.0       2.0       6.0       7.0           0.0  \n",
      "min         0.0       0.0      -7.0      -5.0           0.0  \n",
      "25%         3.0       4.0      12.0      17.0           0.0  \n",
      "50%         7.0       7.0      17.0      21.0           0.0  \n",
      "75%         7.0       7.0      22.0      26.0           0.0  \n",
      "max         9.0       9.0      40.0      47.0           1.0   2\n"
     ]
    }
   ],
   "source": [
    "# view summary statistics in numerical variables\n",
    "\n",
    "print(round(df[numerical].describe()),2)"
   ]
  },
  {
   "cell_type": "markdown",
   "metadata": {},
   "source": [
    "Некоторые (или все?) числовые признаки содержат пропуски, некоторые могут содержать выбросы."
   ]
  },
  {
   "cell_type": "markdown",
   "metadata": {},
   "source": [
    "#### 5. [0.5 балла]  Посмотрите на вывод метода describe. Какие признаки скорее всего содержат выбросы?  "
   ]
  },
  {
   "cell_type": "markdown",
   "metadata": {},
   "source": [
    "Подсказка: предлагается найти до 4х таких столбцов."
   ]
  },
  {
   "cell_type": "code",
   "execution_count": 33,
   "metadata": {},
   "outputs": [
    {
     "data": {
      "text/html": [
       "<div>\n",
       "<style scoped>\n",
       "    .dataframe tbody tr th:only-of-type {\n",
       "        vertical-align: middle;\n",
       "    }\n",
       "\n",
       "    .dataframe tbody tr th {\n",
       "        vertical-align: top;\n",
       "    }\n",
       "\n",
       "    .dataframe thead th {\n",
       "        text-align: right;\n",
       "    }\n",
       "</style>\n",
       "<table border=\"1\" class=\"dataframe\">\n",
       "  <thead>\n",
       "    <tr style=\"text-align: right;\">\n",
       "      <th></th>\n",
       "      <th>Date</th>\n",
       "      <th>Location</th>\n",
       "      <th>MinTemp</th>\n",
       "      <th>MaxTemp</th>\n",
       "      <th>Rainfall</th>\n",
       "      <th>WindGustSpeed</th>\n",
       "      <th>WindSpeed9am</th>\n",
       "      <th>WindSpeed3pm</th>\n",
       "      <th>Humidity9am</th>\n",
       "      <th>Humidity3pm</th>\n",
       "      <th>...</th>\n",
       "      <th>WindDir3pm_SE</th>\n",
       "      <th>WindDir3pm_SSE</th>\n",
       "      <th>WindDir3pm_SSW</th>\n",
       "      <th>WindDir3pm_SW</th>\n",
       "      <th>WindDir3pm_W</th>\n",
       "      <th>WindDir3pm_WNW</th>\n",
       "      <th>WindDir3pm_WSW</th>\n",
       "      <th>RainToday_No</th>\n",
       "      <th>RainToday_Yes</th>\n",
       "      <th>RainTomorrow</th>\n",
       "    </tr>\n",
       "  </thead>\n",
       "  <tbody>\n",
       "    <tr>\n",
       "      <th>count</th>\n",
       "      <td>145460.000000</td>\n",
       "      <td>145460.000000</td>\n",
       "      <td>145460.000000</td>\n",
       "      <td>145460.000000</td>\n",
       "      <td>145460.000000</td>\n",
       "      <td>145460.000000</td>\n",
       "      <td>145460.000000</td>\n",
       "      <td>145460.000000</td>\n",
       "      <td>145460.000000</td>\n",
       "      <td>145460.000000</td>\n",
       "      <td>...</td>\n",
       "      <td>145460.000000</td>\n",
       "      <td>145460.000000</td>\n",
       "      <td>145460.000000</td>\n",
       "      <td>145460.000000</td>\n",
       "      <td>145460.000000</td>\n",
       "      <td>145460.000000</td>\n",
       "      <td>145460.000000</td>\n",
       "      <td>145460.000000</td>\n",
       "      <td>145460.000000</td>\n",
       "      <td>145460.000000</td>\n",
       "    </tr>\n",
       "    <tr>\n",
       "      <th>mean</th>\n",
       "      <td>6.399615</td>\n",
       "      <td>23.793524</td>\n",
       "      <td>12.181844</td>\n",
       "      <td>23.193422</td>\n",
       "      <td>2.307990</td>\n",
       "      <td>39.679967</td>\n",
       "      <td>13.982160</td>\n",
       "      <td>18.543455</td>\n",
       "      <td>69.430373</td>\n",
       "      <td>51.553396</td>\n",
       "      <td>...</td>\n",
       "      <td>0.103575</td>\n",
       "      <td>0.064616</td>\n",
       "      <td>0.056070</td>\n",
       "      <td>0.064306</td>\n",
       "      <td>0.069504</td>\n",
       "      <td>0.061006</td>\n",
       "      <td>0.065434</td>\n",
       "      <td>0.780833</td>\n",
       "      <td>0.219167</td>\n",
       "      <td>0.219146</td>\n",
       "    </tr>\n",
       "    <tr>\n",
       "      <th>std</th>\n",
       "      <td>3.427262</td>\n",
       "      <td>14.228687</td>\n",
       "      <td>6.366881</td>\n",
       "      <td>7.094412</td>\n",
       "      <td>8.389771</td>\n",
       "      <td>13.181471</td>\n",
       "      <td>8.878266</td>\n",
       "      <td>8.754403</td>\n",
       "      <td>19.280872</td>\n",
       "      <td>20.471345</td>\n",
       "      <td>...</td>\n",
       "      <td>0.304709</td>\n",
       "      <td>0.245847</td>\n",
       "      <td>0.230058</td>\n",
       "      <td>0.245299</td>\n",
       "      <td>0.254310</td>\n",
       "      <td>0.239343</td>\n",
       "      <td>0.247291</td>\n",
       "      <td>0.413683</td>\n",
       "      <td>0.413683</td>\n",
       "      <td>0.413669</td>\n",
       "    </tr>\n",
       "    <tr>\n",
       "      <th>min</th>\n",
       "      <td>1.000000</td>\n",
       "      <td>0.000000</td>\n",
       "      <td>-8.500000</td>\n",
       "      <td>-4.800000</td>\n",
       "      <td>0.000000</td>\n",
       "      <td>6.000000</td>\n",
       "      <td>0.000000</td>\n",
       "      <td>0.000000</td>\n",
       "      <td>0.000000</td>\n",
       "      <td>0.000000</td>\n",
       "      <td>...</td>\n",
       "      <td>0.000000</td>\n",
       "      <td>0.000000</td>\n",
       "      <td>0.000000</td>\n",
       "      <td>0.000000</td>\n",
       "      <td>0.000000</td>\n",
       "      <td>0.000000</td>\n",
       "      <td>0.000000</td>\n",
       "      <td>0.000000</td>\n",
       "      <td>0.000000</td>\n",
       "      <td>0.000000</td>\n",
       "    </tr>\n",
       "    <tr>\n",
       "      <th>25%</th>\n",
       "      <td>3.000000</td>\n",
       "      <td>11.000000</td>\n",
       "      <td>7.700000</td>\n",
       "      <td>18.000000</td>\n",
       "      <td>0.000000</td>\n",
       "      <td>31.000000</td>\n",
       "      <td>7.000000</td>\n",
       "      <td>13.000000</td>\n",
       "      <td>57.000000</td>\n",
       "      <td>37.000000</td>\n",
       "      <td>...</td>\n",
       "      <td>0.000000</td>\n",
       "      <td>0.000000</td>\n",
       "      <td>0.000000</td>\n",
       "      <td>0.000000</td>\n",
       "      <td>0.000000</td>\n",
       "      <td>0.000000</td>\n",
       "      <td>0.000000</td>\n",
       "      <td>1.000000</td>\n",
       "      <td>0.000000</td>\n",
       "      <td>0.000000</td>\n",
       "    </tr>\n",
       "    <tr>\n",
       "      <th>50%</th>\n",
       "      <td>6.000000</td>\n",
       "      <td>24.000000</td>\n",
       "      <td>11.900000</td>\n",
       "      <td>22.500000</td>\n",
       "      <td>0.000000</td>\n",
       "      <td>37.000000</td>\n",
       "      <td>13.000000</td>\n",
       "      <td>17.000000</td>\n",
       "      <td>70.000000</td>\n",
       "      <td>52.000000</td>\n",
       "      <td>...</td>\n",
       "      <td>0.000000</td>\n",
       "      <td>0.000000</td>\n",
       "      <td>0.000000</td>\n",
       "      <td>0.000000</td>\n",
       "      <td>0.000000</td>\n",
       "      <td>0.000000</td>\n",
       "      <td>0.000000</td>\n",
       "      <td>1.000000</td>\n",
       "      <td>0.000000</td>\n",
       "      <td>0.000000</td>\n",
       "    </tr>\n",
       "    <tr>\n",
       "      <th>75%</th>\n",
       "      <td>9.000000</td>\n",
       "      <td>36.000000</td>\n",
       "      <td>16.800000</td>\n",
       "      <td>28.200000</td>\n",
       "      <td>0.600000</td>\n",
       "      <td>46.000000</td>\n",
       "      <td>19.000000</td>\n",
       "      <td>24.000000</td>\n",
       "      <td>84.000000</td>\n",
       "      <td>65.000000</td>\n",
       "      <td>...</td>\n",
       "      <td>0.000000</td>\n",
       "      <td>0.000000</td>\n",
       "      <td>0.000000</td>\n",
       "      <td>0.000000</td>\n",
       "      <td>0.000000</td>\n",
       "      <td>0.000000</td>\n",
       "      <td>0.000000</td>\n",
       "      <td>1.000000</td>\n",
       "      <td>0.000000</td>\n",
       "      <td>0.000000</td>\n",
       "    </tr>\n",
       "    <tr>\n",
       "      <th>max</th>\n",
       "      <td>12.000000</td>\n",
       "      <td>48.000000</td>\n",
       "      <td>33.900000</td>\n",
       "      <td>48.100000</td>\n",
       "      <td>371.000000</td>\n",
       "      <td>135.000000</td>\n",
       "      <td>130.000000</td>\n",
       "      <td>87.000000</td>\n",
       "      <td>100.000000</td>\n",
       "      <td>100.000000</td>\n",
       "      <td>...</td>\n",
       "      <td>1.000000</td>\n",
       "      <td>1.000000</td>\n",
       "      <td>1.000000</td>\n",
       "      <td>1.000000</td>\n",
       "      <td>1.000000</td>\n",
       "      <td>1.000000</td>\n",
       "      <td>1.000000</td>\n",
       "      <td>1.000000</td>\n",
       "      <td>1.000000</td>\n",
       "      <td>1.000000</td>\n",
       "    </tr>\n",
       "  </tbody>\n",
       "</table>\n",
       "<p>8 rows × 67 columns</p>\n",
       "</div>"
      ],
      "text/plain": [
       "                Date       Location        MinTemp        MaxTemp  \\\n",
       "count  145460.000000  145460.000000  145460.000000  145460.000000   \n",
       "mean        6.399615      23.793524      12.181844      23.193422   \n",
       "std         3.427262      14.228687       6.366881       7.094412   \n",
       "min         1.000000       0.000000      -8.500000      -4.800000   \n",
       "25%         3.000000      11.000000       7.700000      18.000000   \n",
       "50%         6.000000      24.000000      11.900000      22.500000   \n",
       "75%         9.000000      36.000000      16.800000      28.200000   \n",
       "max        12.000000      48.000000      33.900000      48.100000   \n",
       "\n",
       "            Rainfall  WindGustSpeed   WindSpeed9am   WindSpeed3pm  \\\n",
       "count  145460.000000  145460.000000  145460.000000  145460.000000   \n",
       "mean        2.307990      39.679967      13.982160      18.543455   \n",
       "std         8.389771      13.181471       8.878266       8.754403   \n",
       "min         0.000000       6.000000       0.000000       0.000000   \n",
       "25%         0.000000      31.000000       7.000000      13.000000   \n",
       "50%         0.000000      37.000000      13.000000      17.000000   \n",
       "75%         0.600000      46.000000      19.000000      24.000000   \n",
       "max       371.000000     135.000000     130.000000      87.000000   \n",
       "\n",
       "         Humidity9am    Humidity3pm  ...  WindDir3pm_SE  WindDir3pm_SSE  \\\n",
       "count  145460.000000  145460.000000  ...  145460.000000   145460.000000   \n",
       "mean       69.430373      51.553396  ...       0.103575        0.064616   \n",
       "std        19.280872      20.471345  ...       0.304709        0.245847   \n",
       "min         0.000000       0.000000  ...       0.000000        0.000000   \n",
       "25%        57.000000      37.000000  ...       0.000000        0.000000   \n",
       "50%        70.000000      52.000000  ...       0.000000        0.000000   \n",
       "75%        84.000000      65.000000  ...       0.000000        0.000000   \n",
       "max       100.000000     100.000000  ...       1.000000        1.000000   \n",
       "\n",
       "       WindDir3pm_SSW  WindDir3pm_SW   WindDir3pm_W  WindDir3pm_WNW  \\\n",
       "count   145460.000000  145460.000000  145460.000000   145460.000000   \n",
       "mean         0.056070       0.064306       0.069504        0.061006   \n",
       "std          0.230058       0.245299       0.254310        0.239343   \n",
       "min          0.000000       0.000000       0.000000        0.000000   \n",
       "25%          0.000000       0.000000       0.000000        0.000000   \n",
       "50%          0.000000       0.000000       0.000000        0.000000   \n",
       "75%          0.000000       0.000000       0.000000        0.000000   \n",
       "max          1.000000       1.000000       1.000000        1.000000   \n",
       "\n",
       "       WindDir3pm_WSW   RainToday_No  RainToday_Yes   RainTomorrow  \n",
       "count   145460.000000  145460.000000  145460.000000  145460.000000  \n",
       "mean         0.065434       0.780833       0.219167       0.219146  \n",
       "std          0.247291       0.413683       0.413683       0.413669  \n",
       "min          0.000000       0.000000       0.000000       0.000000  \n",
       "25%          0.000000       1.000000       0.000000       0.000000  \n",
       "50%          0.000000       1.000000       0.000000       0.000000  \n",
       "75%          0.000000       1.000000       0.000000       0.000000  \n",
       "max          1.000000       1.000000       1.000000       1.000000  \n",
       "\n",
       "[8 rows x 67 columns]"
      ]
     },
     "execution_count": 33,
     "metadata": {},
     "output_type": "execute_result"
    }
   ],
   "source": [
    "df.describe()"
   ]
  },
  {
   "cell_type": "markdown",
   "metadata": {},
   "source": [
    "Ответ: Можно выявить потенциальные выбросы в данных, сравнив максимальные значения признаков с их 75-ми процентилями (3-ми квартилями). Если максимум сильно больше 75-го процентиля, это может быть признаком выбросов.\n",
    "\n",
    "Например, в этих данных возможны выбросы в следующих признаках:\n",
    "\n",
    "Rainfall: 75-й процентиль - 0.6, максимум - 371.0. WindSpeed3pm: 75-й процентиль - 24.0, максимум - 87.0. WindGustSpeed: 75-й процентиль - 46.0, максимум - 135.0. WindSpeed9am: 75-й процентиль - 19.0, максимум - 130.0."
   ]
  },
  {
   "cell_type": "markdown",
   "metadata": {},
   "source": [
    "#### 6. [0.5 балла] Найдите выбросы и удалите их\n",
    "\n",
    "Подсказка: попробуйте построить гистограммы, вспомните, что такое boxplot и как он строится"
   ]
  },
  {
   "cell_type": "code",
   "execution_count": 35,
   "metadata": {},
   "outputs": [],
   "source": [
    "numerical = numerical[:-1] # у нас засчиталось при переводе RainTomorrow как данные с выбросами этого нам не надо"
   ]
  },
  {
   "cell_type": "code",
   "execution_count": 36,
   "metadata": {},
   "outputs": [],
   "source": [
    "for x in numerical:\n",
    "    q75,q25 = np.percentile(df.loc[:,x],[75,25])\n",
    "    intr_qr = q75-q25\n",
    "\n",
    "    max = q75+(1.5*intr_qr)\n",
    "    min = q25-(1.5*intr_qr)\n",
    "\n",
    "    df.loc[df[x] < min,x] = np.nan\n",
    "    df.loc[df[x] > max,x] = np.nan"
   ]
  },
  {
   "cell_type": "code",
   "execution_count": 37,
   "metadata": {},
   "outputs": [
    {
     "data": {
      "text/html": [
       "<div>\n",
       "<style scoped>\n",
       "    .dataframe tbody tr th:only-of-type {\n",
       "        vertical-align: middle;\n",
       "    }\n",
       "\n",
       "    .dataframe tbody tr th {\n",
       "        vertical-align: top;\n",
       "    }\n",
       "\n",
       "    .dataframe thead th {\n",
       "        text-align: right;\n",
       "    }\n",
       "</style>\n",
       "<table border=\"1\" class=\"dataframe\">\n",
       "  <thead>\n",
       "    <tr style=\"text-align: right;\">\n",
       "      <th></th>\n",
       "      <th>Date</th>\n",
       "      <th>Location</th>\n",
       "      <th>MinTemp</th>\n",
       "      <th>MaxTemp</th>\n",
       "      <th>Rainfall</th>\n",
       "      <th>WindGustSpeed</th>\n",
       "      <th>WindSpeed9am</th>\n",
       "      <th>WindSpeed3pm</th>\n",
       "      <th>Humidity9am</th>\n",
       "      <th>Humidity3pm</th>\n",
       "      <th>...</th>\n",
       "      <th>WindDir3pm_SE</th>\n",
       "      <th>WindDir3pm_SSE</th>\n",
       "      <th>WindDir3pm_SSW</th>\n",
       "      <th>WindDir3pm_SW</th>\n",
       "      <th>WindDir3pm_W</th>\n",
       "      <th>WindDir3pm_WNW</th>\n",
       "      <th>WindDir3pm_WSW</th>\n",
       "      <th>RainToday_No</th>\n",
       "      <th>RainToday_Yes</th>\n",
       "      <th>RainTomorrow</th>\n",
       "    </tr>\n",
       "  </thead>\n",
       "  <tbody>\n",
       "    <tr>\n",
       "      <th>0</th>\n",
       "      <td>12</td>\n",
       "      <td>2</td>\n",
       "      <td>13.4</td>\n",
       "      <td>22.9</td>\n",
       "      <td>0.6</td>\n",
       "      <td>44.0</td>\n",
       "      <td>20.0</td>\n",
       "      <td>24.0</td>\n",
       "      <td>71.0</td>\n",
       "      <td>22.0</td>\n",
       "      <td>...</td>\n",
       "      <td>0</td>\n",
       "      <td>0</td>\n",
       "      <td>0</td>\n",
       "      <td>0</td>\n",
       "      <td>0</td>\n",
       "      <td>1</td>\n",
       "      <td>0</td>\n",
       "      <td>1</td>\n",
       "      <td>0</td>\n",
       "      <td>0</td>\n",
       "    </tr>\n",
       "    <tr>\n",
       "      <th>1</th>\n",
       "      <td>12</td>\n",
       "      <td>2</td>\n",
       "      <td>7.4</td>\n",
       "      <td>25.1</td>\n",
       "      <td>0.0</td>\n",
       "      <td>44.0</td>\n",
       "      <td>4.0</td>\n",
       "      <td>22.0</td>\n",
       "      <td>44.0</td>\n",
       "      <td>25.0</td>\n",
       "      <td>...</td>\n",
       "      <td>0</td>\n",
       "      <td>0</td>\n",
       "      <td>0</td>\n",
       "      <td>0</td>\n",
       "      <td>0</td>\n",
       "      <td>0</td>\n",
       "      <td>1</td>\n",
       "      <td>1</td>\n",
       "      <td>0</td>\n",
       "      <td>0</td>\n",
       "    </tr>\n",
       "    <tr>\n",
       "      <th>2</th>\n",
       "      <td>12</td>\n",
       "      <td>2</td>\n",
       "      <td>12.9</td>\n",
       "      <td>25.7</td>\n",
       "      <td>0.0</td>\n",
       "      <td>46.0</td>\n",
       "      <td>19.0</td>\n",
       "      <td>26.0</td>\n",
       "      <td>38.0</td>\n",
       "      <td>30.0</td>\n",
       "      <td>...</td>\n",
       "      <td>0</td>\n",
       "      <td>0</td>\n",
       "      <td>0</td>\n",
       "      <td>0</td>\n",
       "      <td>0</td>\n",
       "      <td>0</td>\n",
       "      <td>1</td>\n",
       "      <td>1</td>\n",
       "      <td>0</td>\n",
       "      <td>0</td>\n",
       "    </tr>\n",
       "    <tr>\n",
       "      <th>3</th>\n",
       "      <td>12</td>\n",
       "      <td>2</td>\n",
       "      <td>9.2</td>\n",
       "      <td>28.0</td>\n",
       "      <td>0.0</td>\n",
       "      <td>24.0</td>\n",
       "      <td>11.0</td>\n",
       "      <td>9.0</td>\n",
       "      <td>45.0</td>\n",
       "      <td>16.0</td>\n",
       "      <td>...</td>\n",
       "      <td>0</td>\n",
       "      <td>0</td>\n",
       "      <td>0</td>\n",
       "      <td>0</td>\n",
       "      <td>0</td>\n",
       "      <td>0</td>\n",
       "      <td>0</td>\n",
       "      <td>1</td>\n",
       "      <td>0</td>\n",
       "      <td>0</td>\n",
       "    </tr>\n",
       "    <tr>\n",
       "      <th>4</th>\n",
       "      <td>12</td>\n",
       "      <td>2</td>\n",
       "      <td>17.5</td>\n",
       "      <td>32.3</td>\n",
       "      <td>1.0</td>\n",
       "      <td>41.0</td>\n",
       "      <td>7.0</td>\n",
       "      <td>20.0</td>\n",
       "      <td>82.0</td>\n",
       "      <td>33.0</td>\n",
       "      <td>...</td>\n",
       "      <td>0</td>\n",
       "      <td>0</td>\n",
       "      <td>0</td>\n",
       "      <td>0</td>\n",
       "      <td>0</td>\n",
       "      <td>0</td>\n",
       "      <td>0</td>\n",
       "      <td>1</td>\n",
       "      <td>0</td>\n",
       "      <td>0</td>\n",
       "    </tr>\n",
       "  </tbody>\n",
       "</table>\n",
       "<p>5 rows × 67 columns</p>\n",
       "</div>"
      ],
      "text/plain": [
       "   Date  Location  MinTemp  MaxTemp  Rainfall  WindGustSpeed  WindSpeed9am  \\\n",
       "0    12         2     13.4     22.9       0.6           44.0          20.0   \n",
       "1    12         2      7.4     25.1       0.0           44.0           4.0   \n",
       "2    12         2     12.9     25.7       0.0           46.0          19.0   \n",
       "3    12         2      9.2     28.0       0.0           24.0          11.0   \n",
       "4    12         2     17.5     32.3       1.0           41.0           7.0   \n",
       "\n",
       "   WindSpeed3pm  Humidity9am  Humidity3pm  ...  WindDir3pm_SE  WindDir3pm_SSE  \\\n",
       "0          24.0         71.0         22.0  ...              0               0   \n",
       "1          22.0         44.0         25.0  ...              0               0   \n",
       "2          26.0         38.0         30.0  ...              0               0   \n",
       "3           9.0         45.0         16.0  ...              0               0   \n",
       "4          20.0         82.0         33.0  ...              0               0   \n",
       "\n",
       "   WindDir3pm_SSW  WindDir3pm_SW  WindDir3pm_W  WindDir3pm_WNW  \\\n",
       "0               0              0             0               1   \n",
       "1               0              0             0               0   \n",
       "2               0              0             0               0   \n",
       "3               0              0             0               0   \n",
       "4               0              0             0               0   \n",
       "\n",
       "   WindDir3pm_WSW  RainToday_No  RainToday_Yes  RainTomorrow  \n",
       "0               0             1              0             0  \n",
       "1               1             1              0             0  \n",
       "2               1             1              0             0  \n",
       "3               0             1              0             0  \n",
       "4               0             1              0             0  \n",
       "\n",
       "[5 rows x 67 columns]"
      ]
     },
     "execution_count": 37,
     "metadata": {},
     "output_type": "execute_result"
    }
   ],
   "source": [
    "df.head(5)"
   ]
  },
  {
   "cell_type": "markdown",
   "metadata": {},
   "source": [
    "#### 7. [1 балл]  Заполните пропуски в числовых признаках. "
   ]
  },
  {
   "cell_type": "code",
   "execution_count": 38,
   "metadata": {},
   "outputs": [],
   "source": [
    "for i in numerical:\n",
    "    df[i].fillna(df[i].mean(), inplace=True)"
   ]
  },
  {
   "cell_type": "markdown",
   "metadata": {},
   "source": [
    "#### 8. [0.5 балла] Сделайте нормализацию данных перед обучением."
   ]
  },
  {
   "cell_type": "code",
   "execution_count": 39,
   "metadata": {},
   "outputs": [
    {
     "data": {
      "text/plain": [
       "array([[1.        , 0.04166667, 0.53314917, ..., 1.        , 0.        ,\n",
       "        0.        ],\n",
       "       [1.        , 0.04166667, 0.36740331, ..., 1.        , 0.        ,\n",
       "        0.        ],\n",
       "       [1.        , 0.04166667, 0.51933702, ..., 1.        , 0.        ,\n",
       "        0.        ],\n",
       "       ...,\n",
       "       [0.45454545, 0.85416667, 0.3121547 , ..., 1.        , 0.        ,\n",
       "        0.        ],\n",
       "       [0.45454545, 0.85416667, 0.37845304, ..., 1.        , 0.        ,\n",
       "        0.        ],\n",
       "       [0.45454545, 0.85416667, 0.57458564, ..., 1.        , 0.        ,\n",
       "        0.        ]])"
      ]
     },
     "execution_count": 39,
     "metadata": {},
     "output_type": "execute_result"
    }
   ],
   "source": [
    "from sklearn.preprocessing import MinMaxScaler\n",
    "mms = MinMaxScaler()\n",
    "mms.fit_transform(df)"
   ]
  },
  {
   "cell_type": "markdown",
   "metadata": {},
   "source": [
    "#### 9. [0.5 балла] Обучите логистическую регрессию на полученном датасете."
   ]
  },
  {
   "cell_type": "markdown",
   "metadata": {},
   "source": [
    "### Заметим, что у нас в выборке очень много признаков с дисбалансом классов. Решим эту проблему с помощью SMOTE.Передискретизация SMOTE – один из самых надежных подходов, который призван предотвратить дисбаланс классов. Он расшифровывается как «Техника передискретизации синтетического меньшинства». Этот метод разработан специально для создания новых образцов, соответствующих второстепенным классам."
   ]
  },
  {
   "cell_type": "code",
   "execution_count": 41,
   "metadata": {},
   "outputs": [
    {
     "data": {
      "text/plain": [
       "0.7587489545274464"
      ]
     },
     "execution_count": 41,
     "metadata": {},
     "output_type": "execute_result"
    }
   ],
   "source": [
    "from imblearn.over_sampling import SMOTE\n",
    "from sklearn.linear_model import LogisticRegression\n",
    "X = df.drop(['RainTomorrow'], axis=1)\n",
    "y = df['RainTomorrow']\n",
    "smote = SMOTE(random_state=1000)\n",
    "X, y = smote.fit_resample(X, y)\n",
    "X_train, X_test, y_train, y_test = train_test_split(\n",
    "    X, y, \n",
    "    test_size=0.2, \n",
    "    random_state=42\n",
    ")\n",
    "clf = LogisticRegression(random_state=0).fit(X_train, y_train)\n",
    "pred = clf.predict(X_test)\n",
    "clf.score(X_test,y_test)"
   ]
  },
  {
   "cell_type": "markdown",
   "metadata": {},
   "source": [
    "#### 10. [0.5 балла] Посчитайте accuracy, precision и recall на обучающей и тестовой выборке."
   ]
  },
  {
   "cell_type": "code",
   "execution_count": 42,
   "metadata": {},
   "outputs": [
    {
     "name": "stdout",
     "output_type": "stream",
     "text": [
      "Обучающая выборка: Accuracy = 0.7542975370325534, Precision = 0.7537246869941528, Recall = 0.7543726235741445\n",
      "Тестовая выборка: Accuracy = 0.7587489545274464, Precision = 0.7604171230775971, Recall = 0.7595850840336135\n"
     ]
    }
   ],
   "source": [
    "from sklearn.metrics import accuracy_score, precision_score, recall_score\n",
    "\n",
    "pred_2 = clf.predict(X_train)\n",
    "\n",
    "accuracy_train = accuracy_score(y_train,pred_2)\n",
    "precision_train = precision_score(y_train,pred_2)\n",
    "recall_train = recall_score(y_train,pred_2)\n",
    "\n",
    "print(f'Обучающая выборка: Accuracy = {accuracy_train}, Precision = {precision_train}, Recall = {recall_train}')\n",
    "\n",
    "accuracy_test = accuracy_score(y_test,pred)\n",
    "precision_test = precision_score(y_test,pred)\n",
    "recall_test = recall_score(y_test,pred)\n",
    "\n",
    "print(f'Тестовая выборка: Accuracy = {accuracy_test}, Precision = {precision_test}, Recall = {recall_test}')\n"
   ]
  },
  {
   "cell_type": "markdown",
   "metadata": {},
   "source": [
    "#### 11. [1 балл] Попробуйте обучить несколько классификаторов, изменяя параметр регуляризации C. Сравните метрики. О чем говорят результаты?\n",
    "\n",
    "Ответ: В модели LogisticRegression библиотеки sklearn, коэффициент C является обратным значением силы регуляризации1. Это гиперпараметр, который контролирует степень регуляризации в модели. Регуляризация - это метод, который помогает предотвратить переобучение модели путем штрафа за сложность модели. "
   ]
  },
  {
   "cell_type": "code",
   "execution_count": 49,
   "metadata": {},
   "outputs": [
    {
     "name": "stdout",
     "output_type": "stream",
     "text": [
      "Точность 0.7582207157635251 , c = 0.05\n",
      "Точность 0.7572302680811727 , c = 0.1\n",
      "Точность 0.7575604173086234 , c = 0.15000000000000002\n",
      "Точность 0.7578025267420875 , c = 0.2\n",
      "Точность 0.7609499493771185 , c = 0.25\n",
      "Точность 0.7583747854030022 , c = 0.3\n",
      "Точность 0.7655280186644363 , c = 0.35000000000000003\n",
      "Точность 0.7585948848879693 , c = 0.4\n",
      "Точность 0.7583967953514988 , c = 0.45\n",
      "Точность 0.7579565963815644 , c = 0.5\n",
      "Точность 0.7580226262270546 , c = 0.55\n",
      "Точность 0.7572742879781661 , c = 0.6000000000000001\n",
      "Точность 0.7576484571026104 , c = 0.6500000000000001\n",
      "Точность 0.7579786063300612 , c = 0.7000000000000001\n",
      "Точность 0.7573183078751595 , c = 0.7500000000000001\n",
      "Точность 0.7577144869481005 , c = 0.8\n",
      "Точность 0.757604437205617 , c = 0.8500000000000001\n",
      "Точность 0.7570321785447022 , c = 0.9000000000000001\n",
      "Точность 0.7585728749394727 , c = 0.9500000000000001\n",
      "Точность 0.7587489545274464 , c = 1.0\n",
      "Точность 0.7580006162785579 , c = 1.05\n",
      "Точность 0.7586609147334595 , c = 1.1\n",
      "Точность 0.758462825196989 , c = 1.1500000000000001\n",
      "Точность 0.7581106660210415 , c = 1.2000000000000002\n",
      "Точность 0.7569221288022187 , c = 1.2500000000000002\n",
      "Точность 0.757120218338689 , c = 1.3\n",
      "Точность 0.7581106660210415 , c = 1.35\n",
      "Точность 0.7569881586477087 , c = 1.4000000000000001\n",
      "Точность 0.7572962979266629 , c = 1.4500000000000002\n",
      "Точность 0.7573183078751595 , c = 10.0\n",
      "Точность 0.7577805167935907 , c = 11.0\n",
      "Точность 0.7574063476691465 , c = 12.0\n",
      "Точность 0.7578245366905841 , c = 13.0\n",
      "Точность 0.7583527754545054 , c = 14.0\n"
     ]
    }
   ],
   "source": [
    "c = np.concatenate([np.arange(0.05,1.5,0.05),np.arange(10,15,1)])\n",
    "for i in c:\n",
    "    clf = LogisticRegression(random_state=0,C=i).fit(X_train, y_train)\n",
    "    pred = clf.predict(X_test)\n",
    "    print('Точность',clf.score(X_test,y_test),', c =',i)"
   ]
  },
  {
   "cell_type": "markdown",
   "metadata": {},
   "source": [
    "#### Видно, что наибольшая точность модели, когда c = 0.35."
   ]
  },
  {
   "cell_type": "markdown",
   "metadata": {},
   "source": [
    "Логистическая регрессия предсказывает не просто классы, а их вероятности, поэтому полезно посчитать метрику, не зависящую от выбора порога для классификации:"
   ]
  },
  {
   "cell_type": "markdown",
   "metadata": {},
   "source": [
    "#### 12. [0.5 балл] Выберите лучшую из получившихся моделей, посчитайте AUC-ROC. "
   ]
  },
  {
   "cell_type": "code",
   "execution_count": 44,
   "metadata": {},
   "outputs": [
    {
     "data": {
      "image/png": "[encoded data removed]",
      "text/plain": [
       "<Figure size 640x480 with 1 Axes>"
      ]
     },
     "metadata": {},
     "output_type": "display_data"
    }
   ],
   "source": [
    "from sklearn import metrics\n",
    "import matplotlib.pyplot as plt\n",
    "clf = LogisticRegression(random_state=0,C=0.35).fit(X_train, y_train)\n",
    "scores = clf.predict_proba(X_test)[:,1]\n",
    "fpr, tpr, thresholds = metrics.roc_curve(y_test,scores)\n",
    "plt.plot(fpr,tpr, label=\"ROC Curve\",color=\"blue\")\n",
    "plt.xlabel(\"False Positive Rate\")\n",
    "plt.ylabel(\"True Positive Rate\")\n",
    "plt.legend()\n",
    "plt.title('ROC curve')\n",
    "plt.show()"
   ]
  },
  {
   "cell_type": "code",
   "execution_count": 45,
   "metadata": {},
   "outputs": [
    {
     "data": {
      "text/plain": [
       "0.8502017405740301"
      ]
     },
     "execution_count": 45,
     "metadata": {},
     "output_type": "execute_result"
    }
   ],
   "source": [
    "metrics.roc_auc_score(y_test,scores) "
   ]
  },
  {
   "cell_type": "markdown",
   "metadata": {},
   "source": [
    "#### 13. [1 балл] Если AUC-ROC > 0.85. Можете продолжать улучшать модель, если это необходимо."
   ]
  },
  {
   "cell_type": "markdown",
   "metadata": {},
   "source": [
    "#### Модель очень хорошая, но попробуем улучшить точность, потому что 0.75 это мало. "
   ]
  },
  {
   "cell_type": "code",
   "execution_count": 52,
   "metadata": {},
   "outputs": [
    {
     "name": "stdout",
     "output_type": "stream",
     "text": [
      "Best parameters:  {'penalty': 'l2'} 0.842340169123909\n"
     ]
    }
   ],
   "source": [
    "from sklearn.model_selection import GridSearchCV\n",
    "param_grid = {'penalty': ['l1', 'l2']}\n",
    "lf = LogisticRegression(C=0.35)\n",
    "grid_search = GridSearchCV(lf, param_grid, cv=5,scoring='roc_auc')\n",
    "grid_search.fit(X_train, y_train)\n",
    "scores_2 = grid_search.predict_proba(X_test)[:, 1]\n",
    "print(\"Best parameters: \", grid_search.best_params_,grid_search.best_score_)"
   ]
  },
  {
   "cell_type": "markdown",
   "metadata": {},
   "source": [
    "### Как видно, точность повысилась на GridSearchCV, но при этом значение roc_auc все равно выше 0.85"
   ]
  },
  {
   "cell_type": "code",
   "execution_count": 48,
   "metadata": {},
   "outputs": [
    {
     "data": {
      "text/plain": [
       "0.8502017405740301"
      ]
     },
     "execution_count": 48,
     "metadata": {},
     "output_type": "execute_result"
    }
   ],
   "source": [
    "metrics.roc_auc_score(y_test,scores_2)"
   ]
  },
  {
   "cell_type": "markdown",
   "metadata": {},
   "source": [
    "Одним из преимуществ линейных моделей является то, что после обучения можно оценить вклад каждого признака."
   ]
  },
  {
   "cell_type": "markdown",
   "metadata": {},
   "source": [
    "#### 14. [0.5 балл] Какие признаки получились самыми важными? Напишите топ-3:\n",
    "Ответ:"
   ]
  },
  {
   "cell_type": "code",
   "execution_count": 65,
   "metadata": {},
   "outputs": [
    {
     "name": "stdout",
     "output_type": "stream",
     "text": [
      "          Feature  Coefficient\n",
      "13       Cloud3pm     0.181489\n",
      "12       Cloud9am     0.107284\n",
      "64   RainToday_No     0.084889\n",
      "11    Pressure3pm     0.070607\n",
      "10    Pressure9am     0.063467\n",
      "..            ...          ...\n",
      "14        Temp9am     0.005432\n",
      "1        Location     0.005127\n",
      "55  WindDir3pm_NW     0.005008\n",
      "6    WindSpeed9am     0.003655\n",
      "65  RainToday_Yes     0.003427\n",
      "\n",
      "[66 rows x 2 columns]\n"
     ]
    }
   ],
   "source": [
    "coef = clf.coef_\n",
    "features = pd.DataFrame(data = {'Feature': X.columns, 'Coefficient': np.abs(coef.flatten())})\n",
    "sorted_features = features.sort_values(by='Coefficient', ascending=False)\n",
    "print(sorted_features)"
   ]
  },
  {
   "cell_type": "markdown",
   "metadata": {},
   "source": [
    "### Самые важные признаки, те признаки коэффициент, которых по модулю выше всего. Значит такими признаками являются, Cloud3pm, Cloud9am и изменненые признак RainToday с помощью OHE в значении равном 0"
   ]
  },
  {
   "cell_type": "markdown",
   "metadata": {},
   "source": [
    "![burn](./display.jpeg)"
   ]
  },
  {
   "cell_type": "markdown",
   "metadata": {},
   "source": [
    "#### Поделитесь впечатлениями от выполнения задания:"
   ]
  },
  {
   "cell_type": "markdown",
   "metadata": {},
   "source": [
    "#### 15. [0.5 балла]: аккуратный код, красивые и подписанные графики и гистограммы\n",
    "#### 16. [0.5 балла]: порекомендуйте преподавателю свой любимый фильм или сериал, чтобы он перестал вставлять в ноутбуки картинки из всякого старья. Будьте убедительны!\n",
    "*Итого*: максимум 11/10"
   ]
  },
  {
   "cell_type": "markdown",
   "metadata": {},
   "source": [
    "# \"1+1\" из последних, из старых \"Осенний марафон\""
   ]
  },
  {
   "cell_type": "code",
   "execution_count": null,
   "metadata": {},
   "outputs": [],
   "source": []
  }
 ],
 "metadata": {
  "kernelspec": {
   "display_name": "Python 3 (ipykernel)",
   "language": "python",
   "name": "python3"
  },
  "language_info": {
   "codemirror_mode": {
    "name": "ipython",
    "version": 3
   },
   "file_extension": ".py",
   "mimetype": "text/x-python",
   "name": "python",
   "nbconvert_exporter": "python",
   "pygments_lexer": "ipython3",
   "version": "3.11.2"
  }
 },
 "nbformat": 4,
 "nbformat_minor": 4
}
